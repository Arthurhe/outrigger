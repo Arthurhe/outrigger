{
 "cells": [
  {
   "cell_type": "code",
   "execution_count": 12,
   "metadata": {
    "collapsed": false
   },
   "outputs": [],
   "source": [
    "import random\n",
    "\n",
    "from Bio import SeqIO\n",
    "from Bio.Seq import Seq\n",
    "from Bio.SeqRecord import SeqRecord\n",
    "\n",
    "random.seed('outrigger')"
   ]
  },
  {
   "cell_type": "code",
   "execution_count": 19,
   "metadata": {
    "collapsed": false
   },
   "outputs": [
    {
     "data": {
      "text/plain": [
       "SeqRecord(seq=Seq('TTAAACTGATTGCTTACACATACCCTGATTCGTTGTATCCAAACTTCTGACTGT...GGG', Alphabet()), id='chr1', name='<unknown name>', description='', dbxrefs=[])"
      ]
     },
     "execution_count": 19,
     "metadata": {},
     "output_type": "execute_result"
    }
   ],
   "source": [
    "length = 600\n",
    "seq = ''.join(random.choice(\"ACGT\") for _ in range(length))\n",
    "\n",
    "record = SeqRecord(Seq(seq), id='chr1', description='')\n",
    "record"
   ]
  },
  {
   "cell_type": "code",
   "execution_count": 31,
   "metadata": {
    "collapsed": true
   },
   "outputs": [],
   "source": [
    "fasta_filename = 'outrigger/tests/test.fasta'\n",
    "\n",
    "with open(fasta_filename, 'w') as f:\n",
    "    SeqIO.write([record], f, 'fasta')"
   ]
  },
  {
   "cell_type": "code",
   "execution_count": 32,
   "metadata": {
    "collapsed": false
   },
   "outputs": [
    {
     "name": "stdout",
     "output_type": "stream",
     "text": [
      ">chr1\r\n",
      "TTAAACTGATTGCTTACACATACCCTGATTCGTTGTATCCAAACTTCTGACTGTAGGTCC\r\n",
      "TGCGTTGGACCCTGCACTGTCCCTACTGTCCCCAACGGGTCTACTGACTACTGGGACAAA\r\n",
      "CGGACATCCACTTAGGACTCGGCTATGCGACGGGGAGGGCCGCGATTGCTTCTATTGTGT\r\n",
      "CAACCTGTTCCCCCTACACTGACCAGTGCATGTCGTTCGGAGTAGAGGTTGCAATCGGCT\r\n",
      "TGAGGTAGCGTGTACCTCATGTCCATACCATTGCATATCAATCGTTCGAACGTCAGAAGG\r\n",
      "CGTCCTATACTTCGGTCGTTAACCAGGAATCTTGTCGGCGTAGCTACTCTAGTAATGATA\r\n",
      "ATAGTTTCTACATCCGACAACTATAATGCGTAAGTGGTCGAATATTGATGAATCATCCTC\r\n",
      "GCAAGGCCATCTGAGCAAGGCAATGTCCTCTGCTAGGCTTGACGCATTTTGACTGGAAGA\r\n",
      "AATCCATGACAGGCGTGAATCATTACAGTAGTATTCGACACGTGTCCCACTGATACCGTG\r\n",
      "GTACCGGACGAGTACTAGAACCGTGGGTTAGTATGTTAGCCCATCATGCTGCAGTTCGGG\r\n"
     ]
    }
   ],
   "source": [
    "cat $fasta_filename"
   ]
  },
  {
   "cell_type": "code",
   "execution_count": 23,
   "metadata": {
    "collapsed": false
   },
   "outputs": [],
   "source": [
    "from outrigger.tests.test_junctions_to_events import exon_start_stop"
   ]
  },
  {
   "cell_type": "code",
   "execution_count": 27,
   "metadata": {
    "collapsed": false
   },
   "outputs": [
    {
     "data": {
      "text/html": [
       "<div>\n",
       "<table border=\"1\" class=\"dataframe\">\n",
       "  <thead>\n",
       "    <tr style=\"text-align: right;\">\n",
       "      <th></th>\n",
       "      <th>0</th>\n",
       "      <th>1</th>\n",
       "      <th>2</th>\n",
       "      <th>3</th>\n",
       "      <th>4</th>\n",
       "      <th>5</th>\n",
       "    </tr>\n",
       "  </thead>\n",
       "  <tbody>\n",
       "    <tr>\n",
       "      <th>0</th>\n",
       "      <td>chr1</td>\n",
       "      <td>400</td>\n",
       "      <td>425</td>\n",
       "      <td>exon4_positive</td>\n",
       "      <td>.</td>\n",
       "      <td>+</td>\n",
       "    </tr>\n",
       "    <tr>\n",
       "      <th>1</th>\n",
       "      <td>chr1</td>\n",
       "      <td>400</td>\n",
       "      <td>425</td>\n",
       "      <td>exon4_negative</td>\n",
       "      <td>.</td>\n",
       "      <td>-</td>\n",
       "    </tr>\n",
       "    <tr>\n",
       "      <th>2</th>\n",
       "      <td>chr1</td>\n",
       "      <td>100</td>\n",
       "      <td>125</td>\n",
       "      <td>exon1alt_positive</td>\n",
       "      <td>.</td>\n",
       "      <td>+</td>\n",
       "    </tr>\n",
       "    <tr>\n",
       "      <th>3</th>\n",
       "      <td>chr1</td>\n",
       "      <td>100</td>\n",
       "      <td>125</td>\n",
       "      <td>exon1alt_negative</td>\n",
       "      <td>.</td>\n",
       "      <td>-</td>\n",
       "    </tr>\n",
       "    <tr>\n",
       "      <th>4</th>\n",
       "      <td>chr1</td>\n",
       "      <td>225</td>\n",
       "      <td>275</td>\n",
       "      <td>exon2a5ss_positive</td>\n",
       "      <td>.</td>\n",
       "      <td>+</td>\n",
       "    </tr>\n",
       "    <tr>\n",
       "      <th>5</th>\n",
       "      <td>chr1</td>\n",
       "      <td>225</td>\n",
       "      <td>275</td>\n",
       "      <td>exon2a5ss_negative</td>\n",
       "      <td>.</td>\n",
       "      <td>-</td>\n",
       "    </tr>\n",
       "    <tr>\n",
       "      <th>6</th>\n",
       "      <td>chr1</td>\n",
       "      <td>150</td>\n",
       "      <td>175</td>\n",
       "      <td>exon1_positive</td>\n",
       "      <td>.</td>\n",
       "      <td>+</td>\n",
       "    </tr>\n",
       "    <tr>\n",
       "      <th>7</th>\n",
       "      <td>chr1</td>\n",
       "      <td>150</td>\n",
       "      <td>175</td>\n",
       "      <td>exon1_negative</td>\n",
       "      <td>.</td>\n",
       "      <td>-</td>\n",
       "    </tr>\n",
       "    <tr>\n",
       "      <th>8</th>\n",
       "      <td>chr1</td>\n",
       "      <td>300</td>\n",
       "      <td>350</td>\n",
       "      <td>exon3_positive</td>\n",
       "      <td>.</td>\n",
       "      <td>+</td>\n",
       "    </tr>\n",
       "    <tr>\n",
       "      <th>9</th>\n",
       "      <td>chr1</td>\n",
       "      <td>300</td>\n",
       "      <td>350</td>\n",
       "      <td>exon3_negative</td>\n",
       "      <td>.</td>\n",
       "      <td>-</td>\n",
       "    </tr>\n",
       "    <tr>\n",
       "      <th>10</th>\n",
       "      <td>chr1</td>\n",
       "      <td>225</td>\n",
       "      <td>250</td>\n",
       "      <td>exon2_positive</td>\n",
       "      <td>.</td>\n",
       "      <td>+</td>\n",
       "    </tr>\n",
       "    <tr>\n",
       "      <th>11</th>\n",
       "      <td>chr1</td>\n",
       "      <td>225</td>\n",
       "      <td>250</td>\n",
       "      <td>exon2_negative</td>\n",
       "      <td>.</td>\n",
       "      <td>-</td>\n",
       "    </tr>\n",
       "    <tr>\n",
       "      <th>12</th>\n",
       "      <td>chr1</td>\n",
       "      <td>200</td>\n",
       "      <td>250</td>\n",
       "      <td>exon2a3ss_positive</td>\n",
       "      <td>.</td>\n",
       "      <td>+</td>\n",
       "    </tr>\n",
       "    <tr>\n",
       "      <th>13</th>\n",
       "      <td>chr1</td>\n",
       "      <td>200</td>\n",
       "      <td>250</td>\n",
       "      <td>exon2a3ss_negative</td>\n",
       "      <td>.</td>\n",
       "      <td>-</td>\n",
       "    </tr>\n",
       "    <tr>\n",
       "      <th>14</th>\n",
       "      <td>chr1</td>\n",
       "      <td>475</td>\n",
       "      <td>500</td>\n",
       "      <td>exon4alt_positive</td>\n",
       "      <td>.</td>\n",
       "      <td>+</td>\n",
       "    </tr>\n",
       "    <tr>\n",
       "      <th>15</th>\n",
       "      <td>chr1</td>\n",
       "      <td>475</td>\n",
       "      <td>500</td>\n",
       "      <td>exon4alt_negative</td>\n",
       "      <td>.</td>\n",
       "      <td>-</td>\n",
       "    </tr>\n",
       "  </tbody>\n",
       "</table>\n",
       "</div>"
      ],
      "text/plain": [
       "       0    1    2                   3  4  5\n",
       "0   chr1  400  425      exon4_positive  .  +\n",
       "1   chr1  400  425      exon4_negative  .  -\n",
       "2   chr1  100  125   exon1alt_positive  .  +\n",
       "3   chr1  100  125   exon1alt_negative  .  -\n",
       "4   chr1  225  275  exon2a5ss_positive  .  +\n",
       "5   chr1  225  275  exon2a5ss_negative  .  -\n",
       "6   chr1  150  175      exon1_positive  .  +\n",
       "7   chr1  150  175      exon1_negative  .  -\n",
       "8   chr1  300  350      exon3_positive  .  +\n",
       "9   chr1  300  350      exon3_negative  .  -\n",
       "10  chr1  225  250      exon2_positive  .  +\n",
       "11  chr1  225  250      exon2_negative  .  -\n",
       "12  chr1  200  250  exon2a3ss_positive  .  +\n",
       "13  chr1  200  250  exon2a3ss_negative  .  -\n",
       "14  chr1  475  500   exon4alt_positive  .  +\n",
       "15  chr1  475  500   exon4alt_negative  .  -"
      ]
     },
     "execution_count": 27,
     "metadata": {},
     "output_type": "execute_result"
    }
   ],
   "source": [
    "import pandas as pd\n",
    "\n",
    "\n",
    "bed_lines = []\n",
    "\n",
    "strands = {'positive': '+', 'negative': '-'}\n",
    "\n",
    "for name, (start, stop) in exon_start_stop().items():\n",
    "    for strand_name, strand in strands.items():\n",
    "        line = ['chr1', start, stop, '{}_{}'.format(name, strand_name), '.', strand]\n",
    "        bed_lines.append(line)\n",
    "bed = pd.DataFrame(bed_lines)\n",
    "bed"
   ]
  },
  {
   "cell_type": "code",
   "execution_count": 29,
   "metadata": {
    "collapsed": true
   },
   "outputs": [],
   "source": [
    "bed_filename = 'outrigger/tests/test.bed'\n",
    "bed.to_csv(bed_filename, sep='\\t', header=False, index=False)"
   ]
  },
  {
   "cell_type": "code",
   "execution_count": 30,
   "metadata": {
    "collapsed": false
   },
   "outputs": [
    {
     "name": "stdout",
     "output_type": "stream",
     "text": [
      "chr1\t400\t425\texon4_positive\t.\t+\r\n",
      "chr1\t400\t425\texon4_negative\t.\t-\r\n",
      "chr1\t100\t125\texon1alt_positive\t.\t+\r\n",
      "chr1\t100\t125\texon1alt_negative\t.\t-\r\n",
      "chr1\t225\t275\texon2a5ss_positive\t.\t+\r\n",
      "chr1\t225\t275\texon2a5ss_negative\t.\t-\r\n",
      "chr1\t150\t175\texon1_positive\t.\t+\r\n",
      "chr1\t150\t175\texon1_negative\t.\t-\r\n",
      "chr1\t300\t350\texon3_positive\t.\t+\r\n",
      "chr1\t300\t350\texon3_negative\t.\t-\r\n",
      "chr1\t225\t250\texon2_positive\t.\t+\r\n",
      "chr1\t225\t250\texon2_negative\t.\t-\r\n",
      "chr1\t200\t250\texon2a3ss_positive\t.\t+\r\n",
      "chr1\t200\t250\texon2a3ss_negative\t.\t-\r\n",
      "chr1\t475\t500\texon4alt_positive\t.\t+\r\n",
      "chr1\t475\t500\texon4alt_negative\t.\t-\r\n"
     ]
    }
   ],
   "source": [
    "cat $bed_filename"
   ]
  },
  {
   "cell_type": "code",
   "execution_count": 33,
   "metadata": {
    "collapsed": true
   },
   "outputs": [],
   "source": [
    "import pybedtools"
   ]
  },
  {
   "cell_type": "code",
   "execution_count": 34,
   "metadata": {
    "collapsed": true
   },
   "outputs": [],
   "source": [
    "\n",
    "pybedtools.BedTool.flank?"
   ]
  },
  {
   "cell_type": "code",
   "execution_count": 35,
   "metadata": {
    "collapsed": false
   },
   "outputs": [
    {
     "data": {
      "text/plain": [
       "OrderedDict([('chr1', (0, 249250621)),\n",
       "             ('chr2', (0, 243199373)),\n",
       "             ('chr3', (0, 198022430)),\n",
       "             ('chr4', (0, 191154276)),\n",
       "             ('chr5', (0, 180915260)),\n",
       "             ('chr6', (0, 171115067)),\n",
       "             ('chr7', (0, 159138663)),\n",
       "             ('chr8', (0, 146364022)),\n",
       "             ('chr9', (0, 141213431)),\n",
       "             ('chr10', (0, 135534747)),\n",
       "             ('chr11', (0, 135006516)),\n",
       "             ('chr12', (0, 133851895)),\n",
       "             ('chr13', (0, 115169878)),\n",
       "             ('chr14', (0, 107349540)),\n",
       "             ('chr15', (0, 102531392)),\n",
       "             ('chr16', (0, 90354753)),\n",
       "             ('chr17', (0, 81195210)),\n",
       "             ('chr18', (0, 78077248)),\n",
       "             ('chr19', (0, 59128983)),\n",
       "             ('chr20', (0, 63025520)),\n",
       "             ('chr21', (0, 48129895)),\n",
       "             ('chr22', (0, 51304566)),\n",
       "             ('chrX', (0, 155270560)),\n",
       "             ('chrY', (0, 59373566)),\n",
       "             ('chrM', (0, 16571)),\n",
       "             ('chr6_ssto_hap7', (0, 4928567)),\n",
       "             ('chr6_mcf_hap5', (0, 4833398)),\n",
       "             ('chr6_cox_hap2', (0, 4795371)),\n",
       "             ('chr6_mann_hap4', (0, 4683263)),\n",
       "             ('chr6_apd_hap1', (0, 4622290)),\n",
       "             ('chr6_qbl_hap6', (0, 4611984)),\n",
       "             ('chr6_dbb_hap3', (0, 4610396)),\n",
       "             ('chr17_ctg5_hap1', (0, 1680828)),\n",
       "             ('chr4_ctg9_hap1', (0, 590426)),\n",
       "             ('chr1_gl000192_random', (0, 547496)),\n",
       "             ('chrUn_gl000225', (0, 211173)),\n",
       "             ('chr4_gl000194_random', (0, 191469)),\n",
       "             ('chr4_gl000193_random', (0, 189789)),\n",
       "             ('chr9_gl000200_random', (0, 187035)),\n",
       "             ('chrUn_gl000222', (0, 186861)),\n",
       "             ('chrUn_gl000212', (0, 186858)),\n",
       "             ('chr7_gl000195_random', (0, 182896)),\n",
       "             ('chrUn_gl000223', (0, 180455)),\n",
       "             ('chrUn_gl000224', (0, 179693)),\n",
       "             ('chrUn_gl000219', (0, 179198)),\n",
       "             ('chr17_gl000205_random', (0, 174588)),\n",
       "             ('chrUn_gl000215', (0, 172545)),\n",
       "             ('chrUn_gl000216', (0, 172294)),\n",
       "             ('chrUn_gl000217', (0, 172149)),\n",
       "             ('chr9_gl000199_random', (0, 169874)),\n",
       "             ('chrUn_gl000211', (0, 166566)),\n",
       "             ('chrUn_gl000213', (0, 164239)),\n",
       "             ('chrUn_gl000220', (0, 161802)),\n",
       "             ('chrUn_gl000218', (0, 161147)),\n",
       "             ('chr19_gl000209_random', (0, 159169)),\n",
       "             ('chrUn_gl000221', (0, 155397)),\n",
       "             ('chrUn_gl000214', (0, 137718)),\n",
       "             ('chrUn_gl000228', (0, 129120)),\n",
       "             ('chrUn_gl000227', (0, 128374)),\n",
       "             ('chr1_gl000191_random', (0, 106433)),\n",
       "             ('chr19_gl000208_random', (0, 92689)),\n",
       "             ('chr9_gl000198_random', (0, 90085)),\n",
       "             ('chr17_gl000204_random', (0, 81310)),\n",
       "             ('chrUn_gl000233', (0, 45941)),\n",
       "             ('chrUn_gl000237', (0, 45867)),\n",
       "             ('chrUn_gl000230', (0, 43691)),\n",
       "             ('chrUn_gl000242', (0, 43523)),\n",
       "             ('chrUn_gl000243', (0, 43341)),\n",
       "             ('chrUn_gl000241', (0, 42152)),\n",
       "             ('chrUn_gl000236', (0, 41934)),\n",
       "             ('chrUn_gl000240', (0, 41933)),\n",
       "             ('chr17_gl000206_random', (0, 41001)),\n",
       "             ('chrUn_gl000232', (0, 40652)),\n",
       "             ('chrUn_gl000234', (0, 40531)),\n",
       "             ('chr11_gl000202_random', (0, 40103)),\n",
       "             ('chrUn_gl000238', (0, 39939)),\n",
       "             ('chrUn_gl000244', (0, 39929)),\n",
       "             ('chrUn_gl000248', (0, 39786)),\n",
       "             ('chr8_gl000196_random', (0, 38914)),\n",
       "             ('chrUn_gl000249', (0, 38502)),\n",
       "             ('chrUn_gl000246', (0, 38154)),\n",
       "             ('chr17_gl000203_random', (0, 37498)),\n",
       "             ('chr8_gl000197_random', (0, 37175)),\n",
       "             ('chrUn_gl000245', (0, 36651)),\n",
       "             ('chrUn_gl000247', (0, 36422)),\n",
       "             ('chr9_gl000201_random', (0, 36148)),\n",
       "             ('chrUn_gl000235', (0, 34474)),\n",
       "             ('chrUn_gl000239', (0, 33824)),\n",
       "             ('chr21_gl000210_random', (0, 27682)),\n",
       "             ('chrUn_gl000231', (0, 27386)),\n",
       "             ('chrUn_gl000229', (0, 19913)),\n",
       "             ('chrUn_gl000226', (0, 15008)),\n",
       "             ('chr18_gl000207_random', (0, 4262))])"
      ]
     },
     "execution_count": 35,
     "metadata": {},
     "output_type": "execute_result"
    }
   ],
   "source": [
    "pybedtools.chromsizes('hg19')"
   ]
  },
  {
   "cell_type": "code",
   "execution_count": null,
   "metadata": {
    "collapsed": true
   },
   "outputs": [],
   "source": []
  }
 ],
 "metadata": {
  "kernelspec": {
   "display_name": "Python 2",
   "language": "python",
   "name": "python2"
  },
  "language_info": {
   "codemirror_mode": {
    "name": "ipython",
    "version": 2
   },
   "file_extension": ".py",
   "mimetype": "text/x-python",
   "name": "python",
   "nbconvert_exporter": "python",
   "pygments_lexer": "ipython2",
   "version": "2.7.10"
  }
 },
 "nbformat": 4,
 "nbformat_minor": 0
}
