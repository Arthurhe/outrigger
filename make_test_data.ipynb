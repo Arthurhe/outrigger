{
 "cells": [
  {
   "cell_type": "code",
   "execution_count": 1,
   "metadata": {
    "collapsed": false
   },
   "outputs": [],
   "source": [
    "import random\n",
    "\n",
    "from Bio import SeqIO\n",
    "from Bio.Seq import Seq\n",
    "from Bio.SeqRecord import SeqRecord\n",
    "\n",
    "random.seed('outrigger')"
   ]
  },
  {
   "cell_type": "code",
   "execution_count": 2,
   "metadata": {
    "collapsed": false
   },
   "outputs": [
    {
     "data": {
      "text/plain": [
       "SeqRecord(seq=Seq('CAGATTTTGCGAAGTACCACGAGTAGGAAGCCATCCATGACTTACTTGGTACAA...CAC', Alphabet()), id='chr1', name='<unknown name>', description='', dbxrefs=[])"
      ]
     },
     "execution_count": 2,
     "metadata": {},
     "output_type": "execute_result"
    }
   ],
   "source": [
    "length = 600\n",
    "seq = ''.join(random.choice(\"ACGT\") for _ in range(length))\n",
    "\n",
    "record = SeqRecord(Seq(seq), id='chr1', description='')\n",
    "record"
   ]
  },
  {
   "cell_type": "code",
   "execution_count": 3,
   "metadata": {
    "collapsed": true
   },
   "outputs": [],
   "source": [
    "fasta_filename = 'outrigger/tests/test.fasta'\n",
    "\n",
    "with open(fasta_filename, 'w') as f:\n",
    "    SeqIO.write([record], f, 'fasta')"
   ]
  },
  {
   "cell_type": "code",
   "execution_count": 4,
   "metadata": {
    "collapsed": false
   },
   "outputs": [
    {
     "name": "stdout",
     "output_type": "stream",
     "text": [
      ">chr1\r\n",
      "CAGATTTTGCGAAGTACCACGAGTAGGAAGCCATCCATGACTTACTTGGTACAATCTGGC\r\n",
      "GTGAACTTGAGCACATTGAATAATTACACAATAGCCATAGATTGGCTCAGTGTAAGTGCT\r\n",
      "AGTGGCTTGTATAGGCACAAACGGCTTGCTGAGTAAATGCTGTCTGTCCCGAAGAGAACC\r\n",
      "CATAACGTGGAGGGAATAAATTTGTTGGGGAAGTAGTATCTCATTCATGGAGCCAAAGAC\r\n",
      "AGACGGTGTTGTCGATAGTCAAAGCTCTCAGTACTGTCACTAGGCTGCTTCTTTCGCCTA\r\n",
      "TGCGGATGTTGCCTGGTCGAGTGGAGCGTATTTCCATACCTATTCAATGTAACAACGTCA\r\n",
      "TCGCTCCATAGGGCGCCTAAGGCGTACCATAGTAATTGAACCGGGGACGGCGTGTACAGG\r\n",
      "TAGAGAATGGCACCCTACAGTTTGTGACAGTCGGAGGCCGGGCAGTGATTGGTGGGAATA\r\n",
      "TAGCCCGGATCCGCTCGTAATCTCTAAATTTATTGACCCAGTTACGTTAGATTGCTGTTA\r\n",
      "CACGAGTCAGTACATATCTGATGCGACCGTGCTCTAGGCACGGCAGGCAACGTCTTGCAC\r\n"
     ]
    }
   ],
   "source": [
    "cat $fasta_filename"
   ]
  },
  {
   "cell_type": "code",
   "execution_count": 5,
   "metadata": {
    "collapsed": false
   },
   "outputs": [],
   "source": [
    "from outrigger.tests.test_junctions_to_events import exon_start_stop"
   ]
  },
  {
   "cell_type": "code",
   "execution_count": 6,
   "metadata": {
    "collapsed": false
   },
   "outputs": [
    {
     "data": {
      "text/html": [
       "<div>\n",
       "<table border=\"1\" class=\"dataframe\">\n",
       "  <thead>\n",
       "    <tr style=\"text-align: right;\">\n",
       "      <th></th>\n",
       "      <th>0</th>\n",
       "      <th>1</th>\n",
       "      <th>2</th>\n",
       "      <th>3</th>\n",
       "      <th>4</th>\n",
       "      <th>5</th>\n",
       "    </tr>\n",
       "  </thead>\n",
       "  <tbody>\n",
       "    <tr>\n",
       "      <th>0</th>\n",
       "      <td>chr1</td>\n",
       "      <td>400</td>\n",
       "      <td>425</td>\n",
       "      <td>exon4_positive</td>\n",
       "      <td>.</td>\n",
       "      <td>+</td>\n",
       "    </tr>\n",
       "    <tr>\n",
       "      <th>1</th>\n",
       "      <td>chr1</td>\n",
       "      <td>400</td>\n",
       "      <td>425</td>\n",
       "      <td>exon4_negative</td>\n",
       "      <td>.</td>\n",
       "      <td>-</td>\n",
       "    </tr>\n",
       "    <tr>\n",
       "      <th>2</th>\n",
       "      <td>chr1</td>\n",
       "      <td>100</td>\n",
       "      <td>125</td>\n",
       "      <td>exon1alt_positive</td>\n",
       "      <td>.</td>\n",
       "      <td>+</td>\n",
       "    </tr>\n",
       "    <tr>\n",
       "      <th>3</th>\n",
       "      <td>chr1</td>\n",
       "      <td>100</td>\n",
       "      <td>125</td>\n",
       "      <td>exon1alt_negative</td>\n",
       "      <td>.</td>\n",
       "      <td>-</td>\n",
       "    </tr>\n",
       "    <tr>\n",
       "      <th>4</th>\n",
       "      <td>chr1</td>\n",
       "      <td>225</td>\n",
       "      <td>275</td>\n",
       "      <td>exon2a5ss_positive</td>\n",
       "      <td>.</td>\n",
       "      <td>+</td>\n",
       "    </tr>\n",
       "    <tr>\n",
       "      <th>5</th>\n",
       "      <td>chr1</td>\n",
       "      <td>225</td>\n",
       "      <td>275</td>\n",
       "      <td>exon2a5ss_negative</td>\n",
       "      <td>.</td>\n",
       "      <td>-</td>\n",
       "    </tr>\n",
       "    <tr>\n",
       "      <th>6</th>\n",
       "      <td>chr1</td>\n",
       "      <td>150</td>\n",
       "      <td>175</td>\n",
       "      <td>exon1_positive</td>\n",
       "      <td>.</td>\n",
       "      <td>+</td>\n",
       "    </tr>\n",
       "    <tr>\n",
       "      <th>7</th>\n",
       "      <td>chr1</td>\n",
       "      <td>150</td>\n",
       "      <td>175</td>\n",
       "      <td>exon1_negative</td>\n",
       "      <td>.</td>\n",
       "      <td>-</td>\n",
       "    </tr>\n",
       "    <tr>\n",
       "      <th>8</th>\n",
       "      <td>chr1</td>\n",
       "      <td>300</td>\n",
       "      <td>350</td>\n",
       "      <td>exon3_positive</td>\n",
       "      <td>.</td>\n",
       "      <td>+</td>\n",
       "    </tr>\n",
       "    <tr>\n",
       "      <th>9</th>\n",
       "      <td>chr1</td>\n",
       "      <td>300</td>\n",
       "      <td>350</td>\n",
       "      <td>exon3_negative</td>\n",
       "      <td>.</td>\n",
       "      <td>-</td>\n",
       "    </tr>\n",
       "    <tr>\n",
       "      <th>10</th>\n",
       "      <td>chr1</td>\n",
       "      <td>225</td>\n",
       "      <td>250</td>\n",
       "      <td>exon2_positive</td>\n",
       "      <td>.</td>\n",
       "      <td>+</td>\n",
       "    </tr>\n",
       "    <tr>\n",
       "      <th>11</th>\n",
       "      <td>chr1</td>\n",
       "      <td>225</td>\n",
       "      <td>250</td>\n",
       "      <td>exon2_negative</td>\n",
       "      <td>.</td>\n",
       "      <td>-</td>\n",
       "    </tr>\n",
       "    <tr>\n",
       "      <th>12</th>\n",
       "      <td>chr1</td>\n",
       "      <td>200</td>\n",
       "      <td>250</td>\n",
       "      <td>exon2a3ss_positive</td>\n",
       "      <td>.</td>\n",
       "      <td>+</td>\n",
       "    </tr>\n",
       "    <tr>\n",
       "      <th>13</th>\n",
       "      <td>chr1</td>\n",
       "      <td>200</td>\n",
       "      <td>250</td>\n",
       "      <td>exon2a3ss_negative</td>\n",
       "      <td>.</td>\n",
       "      <td>-</td>\n",
       "    </tr>\n",
       "    <tr>\n",
       "      <th>14</th>\n",
       "      <td>chr1</td>\n",
       "      <td>475</td>\n",
       "      <td>500</td>\n",
       "      <td>exon4alt_positive</td>\n",
       "      <td>.</td>\n",
       "      <td>+</td>\n",
       "    </tr>\n",
       "    <tr>\n",
       "      <th>15</th>\n",
       "      <td>chr1</td>\n",
       "      <td>475</td>\n",
       "      <td>500</td>\n",
       "      <td>exon4alt_negative</td>\n",
       "      <td>.</td>\n",
       "      <td>-</td>\n",
       "    </tr>\n",
       "  </tbody>\n",
       "</table>\n",
       "</div>"
      ],
      "text/plain": [
       "       0    1    2                   3  4  5\n",
       "0   chr1  400  425      exon4_positive  .  +\n",
       "1   chr1  400  425      exon4_negative  .  -\n",
       "2   chr1  100  125   exon1alt_positive  .  +\n",
       "3   chr1  100  125   exon1alt_negative  .  -\n",
       "4   chr1  225  275  exon2a5ss_positive  .  +\n",
       "5   chr1  225  275  exon2a5ss_negative  .  -\n",
       "6   chr1  150  175      exon1_positive  .  +\n",
       "7   chr1  150  175      exon1_negative  .  -\n",
       "8   chr1  300  350      exon3_positive  .  +\n",
       "9   chr1  300  350      exon3_negative  .  -\n",
       "10  chr1  225  250      exon2_positive  .  +\n",
       "11  chr1  225  250      exon2_negative  .  -\n",
       "12  chr1  200  250  exon2a3ss_positive  .  +\n",
       "13  chr1  200  250  exon2a3ss_negative  .  -\n",
       "14  chr1  475  500   exon4alt_positive  .  +\n",
       "15  chr1  475  500   exon4alt_negative  .  -"
      ]
     },
     "execution_count": 6,
     "metadata": {},
     "output_type": "execute_result"
    }
   ],
   "source": [
    "import pandas as pd\n",
    "\n",
    "\n",
    "bed_lines = []\n",
    "\n",
    "strands = {'positive': '+', 'negative': '-'}\n",
    "\n",
    "for name, (start, stop) in exon_start_stop().items():\n",
    "    for strand_name, strand in strands.items():\n",
    "        line = ['chr1', start, stop, '{}_{}'.format(name, strand_name), '.', strand]\n",
    "        bed_lines.append(line)\n",
    "bed = pd.DataFrame(bed_lines)\n",
    "bed"
   ]
  },
  {
   "cell_type": "code",
   "execution_count": 7,
   "metadata": {
    "collapsed": false,
    "scrolled": true
   },
   "outputs": [
    {
     "data": {
      "text/plain": [
       "SeqRecord(seq=Seq('CCGGGGACGGCGTGTACAGGTAGAGA', Alphabet()), id='chr1', name='<unknown name>', description='', dbxrefs=[])"
      ]
     },
     "execution_count": 7,
     "metadata": {},
     "output_type": "execute_result"
    }
   ],
   "source": [
    "record[400:426]"
   ]
  },
  {
   "cell_type": "code",
   "execution_count": 8,
   "metadata": {
    "collapsed": false
   },
   "outputs": [
    {
     "data": {
      "text/plain": [
       "SeqRecord(seq=Seq('GAGAATGGC', Alphabet()), id='chr1', name='<unknown name>', description='', dbxrefs=[])"
      ]
     },
     "execution_count": 8,
     "metadata": {},
     "output_type": "execute_result"
    }
   ],
   "source": [
    "record[422:431]"
   ]
  },
  {
   "cell_type": "code",
   "execution_count": 9,
   "metadata": {
    "collapsed": false
   },
   "outputs": [
    {
     "data": {
      "text/plain": [
       "SeqRecord(seq=Seq('CGGTTCAAT', Alphabet()), id='<unknown id>', name='<unknown name>', description='<unknown description>', dbxrefs=[])"
      ]
     },
     "execution_count": 9,
     "metadata": {},
     "output_type": "execute_result"
    }
   ],
   "source": [
    "record[394:403].reverse_complement()"
   ]
  },
  {
   "cell_type": "code",
   "execution_count": 10,
   "metadata": {
    "collapsed": true
   },
   "outputs": [],
   "source": [
    "bed_filename = 'outrigger/tests/test.bed'\n",
    "bed.to_csv(bed_filename, sep='\\t', header=False, index=False)"
   ]
  },
  {
   "cell_type": "code",
   "execution_count": 11,
   "metadata": {
    "collapsed": false
   },
   "outputs": [
    {
     "name": "stdout",
     "output_type": "stream",
     "text": [
      "chr1\t400\t425\texon4_positive\t.\t+\r\n",
      "chr1\t400\t425\texon4_negative\t.\t-\r\n",
      "chr1\t100\t125\texon1alt_positive\t.\t+\r\n",
      "chr1\t100\t125\texon1alt_negative\t.\t-\r\n",
      "chr1\t225\t275\texon2a5ss_positive\t.\t+\r\n",
      "chr1\t225\t275\texon2a5ss_negative\t.\t-\r\n",
      "chr1\t150\t175\texon1_positive\t.\t+\r\n",
      "chr1\t150\t175\texon1_negative\t.\t-\r\n",
      "chr1\t300\t350\texon3_positive\t.\t+\r\n",
      "chr1\t300\t350\texon3_negative\t.\t-\r\n",
      "chr1\t225\t250\texon2_positive\t.\t+\r\n",
      "chr1\t225\t250\texon2_negative\t.\t-\r\n",
      "chr1\t200\t250\texon2a3ss_positive\t.\t+\r\n",
      "chr1\t200\t250\texon2a3ss_negative\t.\t-\r\n",
      "chr1\t475\t500\texon4alt_positive\t.\t+\r\n",
      "chr1\t475\t500\texon4alt_negative\t.\t-\r\n"
     ]
    }
   ],
   "source": [
    "cat $bed_filename"
   ]
  },
  {
   "cell_type": "code",
   "execution_count": 12,
   "metadata": {
    "collapsed": true
   },
   "outputs": [],
   "source": [
    "import pybedtools"
   ]
  },
  {
   "cell_type": "code",
   "execution_count": 19,
   "metadata": {
    "collapsed": false
   },
   "outputs": [],
   "source": [
    "import outrigger"
   ]
  },
  {
   "cell_type": "code",
   "execution_count": 24,
   "metadata": {
    "collapsed": true
   },
   "outputs": [],
   "source": [
    "rbfox2_gff_str = \"\"\"22\tHAVANA\texon\t36236239\t36236634\t.\t-\t.\tgene_id \"ENSG00000100320.18\"; transcript_id \"ENST00000405409.2\"; gene_type \"protein_coding\"; gene_status \"KNOWN\"; gene_name \"RBFOX2\"; transcript_type \"protein_coding\"; transcript_status \"KNOWN\"; transcript_name \"RBFOX2-001\"; exon_number 1;  exon_id \"ENSE00001928848.1\";  level 2; tag \"basic\"; tag \"CCDS\"; ccdsid \"CCDS13921.1\"; havana_gene \"OTTHUMG00000150585.10\"; havana_transcript \"OTTHUMT00000318976.3\";\n",
    "22\tHAVANA\texon\t36205827\t36206051\t.\t-\t.\tgene_id \"ENSG00000100320.18\"; transcript_id \"ENST00000405409.2\"; gene_type \"protein_coding\"; gene_status \"KNOWN\"; gene_name \"RBFOX2\"; transcript_type \"protein_coding\"; transcript_status \"KNOWN\"; transcript_name \"RBFOX2-001\"; exon_number 2;  exon_id \"ENSE00003480855.1\";  level 2; tag \"basic\"; tag \"CCDS\"; ccdsid \"CCDS13921.1\"; havana_gene \"OTTHUMG00000150585.10\"; havana_transcript \"OTTHUMT00000318976.3\";\n",
    "22\tHAVANA\texon\t36177647\t36177793\t.\t-\t.\tgene_id \"ENSG00000100320.18\"; transcript_id \"ENST00000405409.2\"; gene_type \"protein_coding\"; gene_status \"KNOWN\"; gene_name \"RBFOX2\"; transcript_type \"protein_coding\"; transcript_status \"KNOWN\"; transcript_name \"RBFOX2-001\"; exon_number 3;  exon_id \"ENSE00001578650.1\";  level 2; tag \"basic\"; tag \"CCDS\"; ccdsid \"CCDS13921.1\"; havana_gene \"OTTHUMG00000150585.10\"; havana_transcript \"OTTHUMT00000318976.3\";\n",
    "22\tHAVANA\texon\t36174072\t36174125\t.\t-\t.\tgene_id \"ENSG00000100320.18\"; transcript_id \"ENST00000405409.2\"; gene_type \"protein_coding\"; gene_status \"KNOWN\"; gene_name \"RBFOX2\"; transcript_type \"protein_coding\"; transcript_status \"KNOWN\"; transcript_name \"RBFOX2-001\"; exon_number 4;  exon_id \"ENSE00001585912.1\";  level 2; tag \"basic\"; tag \"CCDS\"; ccdsid \"CCDS13921.1\"; havana_gene \"OTTHUMG00000150585.10\"; havana_transcript \"OTTHUMT00000318976.3\";\n",
    "22\tHAVANA\texon\t36164304\t36164396\t.\t-\t.\tgene_id \"ENSG00000100320.18\"; transcript_id \"ENST00000405409.2\"; gene_type \"protein_coding\"; gene_status \"KNOWN\"; gene_name \"RBFOX2\"; transcript_type \"protein_coding\"; transcript_status \"KNOWN\"; transcript_name \"RBFOX2-001\"; exon_number 5;  exon_id \"ENSE00001638626.1\";  level 2; tag \"basic\"; tag \"CCDS\"; ccdsid \"CCDS13921.1\"; havana_gene \"OTTHUMG00000150585.10\"; havana_transcript \"OTTHUMT00000318976.3\";\n",
    "22\tHAVANA\texon\t36161470\t36161530\t.\t-\t.\tgene_id \"ENSG00000100320.18\"; transcript_id \"ENST00000405409.2\"; gene_type \"protein_coding\"; gene_status \"KNOWN\"; gene_name \"RBFOX2\"; transcript_type \"protein_coding\"; transcript_status \"KNOWN\"; transcript_name \"RBFOX2-001\"; exon_number 6;  exon_id \"ENSE00001641902.1\";  level 2; tag \"basic\"; tag \"CCDS\"; ccdsid \"CCDS13921.1\"; havana_gene \"OTTHUMG00000150585.10\"; havana_transcript \"OTTHUMT00000318976.3\";\n",
    "22\tHAVANA\texon\t36157462\t36157515\t.\t-\t.\tgene_id \"ENSG00000100320.18\"; transcript_id \"ENST00000405409.2\"; gene_type \"protein_coding\"; gene_status \"KNOWN\"; gene_name \"RBFOX2\"; transcript_type \"protein_coding\"; transcript_status \"KNOWN\"; transcript_name \"RBFOX2-001\"; exon_number 7;  exon_id \"ENSE00001583934.1\";  level 2; tag \"basic\"; tag \"CCDS\"; ccdsid \"CCDS13921.1\"; havana_gene \"OTTHUMG00000150585.10\"; havana_transcript \"OTTHUMT00000318976.3\";\n",
    "22\tHAVANA\texon\t36157249\t36157341\t.\t-\t.\tgene_id \"ENSG00000100320.18\"; transcript_id \"ENST00000405409.2\"; gene_type \"protein_coding\"; gene_status \"KNOWN\"; gene_name \"RBFOX2\"; transcript_type \"protein_coding\"; transcript_status \"KNOWN\"; transcript_name \"RBFOX2-001\"; exon_number 8;  exon_id \"ENSE00001576597.1\";  level 2; tag \"basic\"; tag \"CCDS\"; ccdsid \"CCDS13921.1\"; havana_gene \"OTTHUMG00000150585.10\"; havana_transcript \"OTTHUMT00000318976.3\";\n",
    "22\tHAVANA\texon\t36155935\t36156067\t.\t-\t.\tgene_id \"ENSG00000100320.18\"; transcript_id \"ENST00000405409.2\"; gene_type \"protein_coding\"; gene_status \"KNOWN\"; gene_name \"RBFOX2\"; transcript_type \"protein_coding\"; transcript_status \"KNOWN\"; transcript_name \"RBFOX2-001\"; exon_number 9;  exon_id \"ENSE00001175865.2\";  level 2; tag \"basic\"; tag \"CCDS\"; ccdsid \"CCDS13921.1\"; havana_gene \"OTTHUMG00000150585.10\"; havana_transcript \"OTTHUMT00000318976.3\";\n",
    "22\tHAVANA\texon\t36142520\t36142608\t.\t-\t.\tgene_id \"ENSG00000100320.18\"; transcript_id \"ENST00000405409.2\"; gene_type \"protein_coding\"; gene_status \"KNOWN\"; gene_name \"RBFOX2\"; transcript_type \"protein_coding\"; transcript_status \"KNOWN\"; transcript_name \"RBFOX2-001\"; exon_number 10;  exon_id \"ENSE00003522828.1\";  level 2; tag \"basic\"; tag \"CCDS\"; ccdsid \"CCDS13921.1\"; havana_gene \"OTTHUMG00000150585.10\"; havana_transcript \"OTTHUMT00000318976.3\";\n",
    "\"\"\""
   ]
  },
  {
   "cell_type": "code",
   "execution_count": 25,
   "metadata": {
    "collapsed": false
   },
   "outputs": [
    {
     "data": {
      "text/html": [
       "<div>\n",
       "<table border=\"1\" class=\"dataframe\">\n",
       "  <thead>\n",
       "    <tr style=\"text-align: right;\">\n",
       "      <th></th>\n",
       "      <th>0</th>\n",
       "      <th>1</th>\n",
       "      <th>2</th>\n",
       "      <th>3</th>\n",
       "      <th>4</th>\n",
       "      <th>5</th>\n",
       "      <th>6</th>\n",
       "      <th>7</th>\n",
       "      <th>8</th>\n",
       "    </tr>\n",
       "  </thead>\n",
       "  <tbody>\n",
       "    <tr>\n",
       "      <th>0</th>\n",
       "      <td>22</td>\n",
       "      <td>HAVANA</td>\n",
       "      <td>exon</td>\n",
       "      <td>36236239</td>\n",
       "      <td>36236634</td>\n",
       "      <td>.</td>\n",
       "      <td>-</td>\n",
       "      <td>.</td>\n",
       "      <td>gene_id \"ENSG00000100320.18\"; transcript_id \"E...</td>\n",
       "    </tr>\n",
       "    <tr>\n",
       "      <th>1</th>\n",
       "      <td>22</td>\n",
       "      <td>HAVANA</td>\n",
       "      <td>exon</td>\n",
       "      <td>36205827</td>\n",
       "      <td>36206051</td>\n",
       "      <td>.</td>\n",
       "      <td>-</td>\n",
       "      <td>.</td>\n",
       "      <td>gene_id \"ENSG00000100320.18\"; transcript_id \"E...</td>\n",
       "    </tr>\n",
       "    <tr>\n",
       "      <th>2</th>\n",
       "      <td>22</td>\n",
       "      <td>HAVANA</td>\n",
       "      <td>exon</td>\n",
       "      <td>36177647</td>\n",
       "      <td>36177793</td>\n",
       "      <td>.</td>\n",
       "      <td>-</td>\n",
       "      <td>.</td>\n",
       "      <td>gene_id \"ENSG00000100320.18\"; transcript_id \"E...</td>\n",
       "    </tr>\n",
       "    <tr>\n",
       "      <th>3</th>\n",
       "      <td>22</td>\n",
       "      <td>HAVANA</td>\n",
       "      <td>exon</td>\n",
       "      <td>36174072</td>\n",
       "      <td>36174125</td>\n",
       "      <td>.</td>\n",
       "      <td>-</td>\n",
       "      <td>.</td>\n",
       "      <td>gene_id \"ENSG00000100320.18\"; transcript_id \"E...</td>\n",
       "    </tr>\n",
       "    <tr>\n",
       "      <th>4</th>\n",
       "      <td>22</td>\n",
       "      <td>HAVANA</td>\n",
       "      <td>exon</td>\n",
       "      <td>36164304</td>\n",
       "      <td>36164396</td>\n",
       "      <td>.</td>\n",
       "      <td>-</td>\n",
       "      <td>.</td>\n",
       "      <td>gene_id \"ENSG00000100320.18\"; transcript_id \"E...</td>\n",
       "    </tr>\n",
       "    <tr>\n",
       "      <th>5</th>\n",
       "      <td>22</td>\n",
       "      <td>HAVANA</td>\n",
       "      <td>exon</td>\n",
       "      <td>36161470</td>\n",
       "      <td>36161530</td>\n",
       "      <td>.</td>\n",
       "      <td>-</td>\n",
       "      <td>.</td>\n",
       "      <td>gene_id \"ENSG00000100320.18\"; transcript_id \"E...</td>\n",
       "    </tr>\n",
       "    <tr>\n",
       "      <th>6</th>\n",
       "      <td>22</td>\n",
       "      <td>HAVANA</td>\n",
       "      <td>exon</td>\n",
       "      <td>36157462</td>\n",
       "      <td>36157515</td>\n",
       "      <td>.</td>\n",
       "      <td>-</td>\n",
       "      <td>.</td>\n",
       "      <td>gene_id \"ENSG00000100320.18\"; transcript_id \"E...</td>\n",
       "    </tr>\n",
       "    <tr>\n",
       "      <th>7</th>\n",
       "      <td>22</td>\n",
       "      <td>HAVANA</td>\n",
       "      <td>exon</td>\n",
       "      <td>36157249</td>\n",
       "      <td>36157341</td>\n",
       "      <td>.</td>\n",
       "      <td>-</td>\n",
       "      <td>.</td>\n",
       "      <td>gene_id \"ENSG00000100320.18\"; transcript_id \"E...</td>\n",
       "    </tr>\n",
       "    <tr>\n",
       "      <th>8</th>\n",
       "      <td>22</td>\n",
       "      <td>HAVANA</td>\n",
       "      <td>exon</td>\n",
       "      <td>36155935</td>\n",
       "      <td>36156067</td>\n",
       "      <td>.</td>\n",
       "      <td>-</td>\n",
       "      <td>.</td>\n",
       "      <td>gene_id \"ENSG00000100320.18\"; transcript_id \"E...</td>\n",
       "    </tr>\n",
       "    <tr>\n",
       "      <th>9</th>\n",
       "      <td>22</td>\n",
       "      <td>HAVANA</td>\n",
       "      <td>exon</td>\n",
       "      <td>36142520</td>\n",
       "      <td>36142608</td>\n",
       "      <td>.</td>\n",
       "      <td>-</td>\n",
       "      <td>.</td>\n",
       "      <td>gene_id \"ENSG00000100320.18\"; transcript_id \"E...</td>\n",
       "    </tr>\n",
       "  </tbody>\n",
       "</table>\n",
       "</div>"
      ],
      "text/plain": [
       "    0       1     2         3         4  5  6  7  \\\n",
       "0  22  HAVANA  exon  36236239  36236634  .  -  .   \n",
       "1  22  HAVANA  exon  36205827  36206051  .  -  .   \n",
       "2  22  HAVANA  exon  36177647  36177793  .  -  .   \n",
       "3  22  HAVANA  exon  36174072  36174125  .  -  .   \n",
       "4  22  HAVANA  exon  36164304  36164396  .  -  .   \n",
       "5  22  HAVANA  exon  36161470  36161530  .  -  .   \n",
       "6  22  HAVANA  exon  36157462  36157515  .  -  .   \n",
       "7  22  HAVANA  exon  36157249  36157341  .  -  .   \n",
       "8  22  HAVANA  exon  36155935  36156067  .  -  .   \n",
       "9  22  HAVANA  exon  36142520  36142608  .  -  .   \n",
       "\n",
       "                                                   8  \n",
       "0  gene_id \"ENSG00000100320.18\"; transcript_id \"E...  \n",
       "1  gene_id \"ENSG00000100320.18\"; transcript_id \"E...  \n",
       "2  gene_id \"ENSG00000100320.18\"; transcript_id \"E...  \n",
       "3  gene_id \"ENSG00000100320.18\"; transcript_id \"E...  \n",
       "4  gene_id \"ENSG00000100320.18\"; transcript_id \"E...  \n",
       "5  gene_id \"ENSG00000100320.18\"; transcript_id \"E...  \n",
       "6  gene_id \"ENSG00000100320.18\"; transcript_id \"E...  \n",
       "7  gene_id \"ENSG00000100320.18\"; transcript_id \"E...  \n",
       "8  gene_id \"ENSG00000100320.18\"; transcript_id \"E...  \n",
       "9  gene_id \"ENSG00000100320.18\"; transcript_id \"E...  "
      ]
     },
     "execution_count": 25,
     "metadata": {},
     "output_type": "execute_result"
    }
   ],
   "source": [
    "import six\n",
    "\n",
    "rbfox2_gff = pd.read_table(six.StringIO(rbfox2_gff_str), header=None)\n",
    "rbfox2_gff"
   ]
  },
  {
   "cell_type": "code",
   "execution_count": 26,
   "metadata": {
    "collapsed": false
   },
   "outputs": [
    {
     "name": "stderr",
     "output_type": "stream",
     "text": [
      "/Users/olga/anaconda/lib/python2.7/site-packages/ipykernel/__main__.py:2: SettingWithCopyWarning: \n",
      "A value is trying to be set on a copy of a slice from a DataFrame.\n",
      "Try using .loc[row_indexer,col_indexer] = value instead\n",
      "\n",
      "See the caveats in the documentation: http://pandas.pydata.org/pandas-docs/stable/indexing.html#indexing-view-versus-copy\n",
      "  from ipykernel import kernelapp as app\n",
      "/Users/olga/anaconda/lib/python2.7/site-packages/ipykernel/__main__.py:3: SettingWithCopyWarning: \n",
      "A value is trying to be set on a copy of a slice from a DataFrame.\n",
      "Try using .loc[row_indexer,col_indexer] = value instead\n",
      "\n",
      "See the caveats in the documentation: http://pandas.pydata.org/pandas-docs/stable/indexing.html#indexing-view-versus-copy\n",
      "  app.launch_new_instance()\n"
     ]
    },
    {
     "data": {
      "text/html": [
       "<div>\n",
       "<table border=\"1\" class=\"dataframe\">\n",
       "  <thead>\n",
       "    <tr style=\"text-align: right;\">\n",
       "      <th></th>\n",
       "      <th>0</th>\n",
       "      <th>3</th>\n",
       "      <th>4</th>\n",
       "      <th>2</th>\n",
       "      <th>5</th>\n",
       "      <th>6</th>\n",
       "    </tr>\n",
       "  </thead>\n",
       "  <tbody>\n",
       "    <tr>\n",
       "      <th>0</th>\n",
       "      <td>chr22</td>\n",
       "      <td>36236239</td>\n",
       "      <td>36236634</td>\n",
       "      <td>exon_0</td>\n",
       "      <td>.</td>\n",
       "      <td>-</td>\n",
       "    </tr>\n",
       "    <tr>\n",
       "      <th>1</th>\n",
       "      <td>chr22</td>\n",
       "      <td>36205827</td>\n",
       "      <td>36206051</td>\n",
       "      <td>exon_1</td>\n",
       "      <td>.</td>\n",
       "      <td>-</td>\n",
       "    </tr>\n",
       "    <tr>\n",
       "      <th>2</th>\n",
       "      <td>chr22</td>\n",
       "      <td>36177647</td>\n",
       "      <td>36177793</td>\n",
       "      <td>exon_2</td>\n",
       "      <td>.</td>\n",
       "      <td>-</td>\n",
       "    </tr>\n",
       "    <tr>\n",
       "      <th>3</th>\n",
       "      <td>chr22</td>\n",
       "      <td>36174072</td>\n",
       "      <td>36174125</td>\n",
       "      <td>exon_3</td>\n",
       "      <td>.</td>\n",
       "      <td>-</td>\n",
       "    </tr>\n",
       "    <tr>\n",
       "      <th>4</th>\n",
       "      <td>chr22</td>\n",
       "      <td>36164304</td>\n",
       "      <td>36164396</td>\n",
       "      <td>exon_4</td>\n",
       "      <td>.</td>\n",
       "      <td>-</td>\n",
       "    </tr>\n",
       "    <tr>\n",
       "      <th>5</th>\n",
       "      <td>chr22</td>\n",
       "      <td>36161470</td>\n",
       "      <td>36161530</td>\n",
       "      <td>exon_5</td>\n",
       "      <td>.</td>\n",
       "      <td>-</td>\n",
       "    </tr>\n",
       "    <tr>\n",
       "      <th>6</th>\n",
       "      <td>chr22</td>\n",
       "      <td>36157462</td>\n",
       "      <td>36157515</td>\n",
       "      <td>exon_6</td>\n",
       "      <td>.</td>\n",
       "      <td>-</td>\n",
       "    </tr>\n",
       "    <tr>\n",
       "      <th>7</th>\n",
       "      <td>chr22</td>\n",
       "      <td>36157249</td>\n",
       "      <td>36157341</td>\n",
       "      <td>exon_7</td>\n",
       "      <td>.</td>\n",
       "      <td>-</td>\n",
       "    </tr>\n",
       "    <tr>\n",
       "      <th>8</th>\n",
       "      <td>chr22</td>\n",
       "      <td>36155935</td>\n",
       "      <td>36156067</td>\n",
       "      <td>exon_8</td>\n",
       "      <td>.</td>\n",
       "      <td>-</td>\n",
       "    </tr>\n",
       "    <tr>\n",
       "      <th>9</th>\n",
       "      <td>chr22</td>\n",
       "      <td>36142520</td>\n",
       "      <td>36142608</td>\n",
       "      <td>exon_9</td>\n",
       "      <td>.</td>\n",
       "      <td>-</td>\n",
       "    </tr>\n",
       "  </tbody>\n",
       "</table>\n",
       "</div>"
      ],
      "text/plain": [
       "       0         3         4       2  5  6\n",
       "0  chr22  36236239  36236634  exon_0  .  -\n",
       "1  chr22  36205827  36206051  exon_1  .  -\n",
       "2  chr22  36177647  36177793  exon_2  .  -\n",
       "3  chr22  36174072  36174125  exon_3  .  -\n",
       "4  chr22  36164304  36164396  exon_4  .  -\n",
       "5  chr22  36161470  36161530  exon_5  .  -\n",
       "6  chr22  36157462  36157515  exon_6  .  -\n",
       "7  chr22  36157249  36157341  exon_7  .  -\n",
       "8  chr22  36155935  36156067  exon_8  .  -\n",
       "9  chr22  36142520  36142608  exon_9  .  -"
      ]
     },
     "execution_count": 26,
     "metadata": {},
     "output_type": "execute_result"
    }
   ],
   "source": [
    "rbfox2_bed = rbfox2_gff[[0, 3, 4, 2, 5, 6]]\n",
    "rbfox2_bed[0] = 'chr' + rbfox2_bed[0].astype(str)\n",
    "rbfox2_bed[2] += '_' + rbfox2_bed.index.astype(str)\n",
    "rbfox2_bed"
   ]
  },
  {
   "cell_type": "code",
   "execution_count": 31,
   "metadata": {
    "collapsed": false
   },
   "outputs": [
    {
     "data": {
      "text/plain": [
       "0    chr22:36236239-36236634\n",
       "1    chr22:36205827-36206051\n",
       "2    chr22:36177647-36177793\n",
       "3    chr22:36174072-36174125\n",
       "4    chr22:36164304-36164396\n",
       "5    chr22:36161470-36161530\n",
       "6    chr22:36157462-36157515\n",
       "7    chr22:36157249-36157341\n",
       "8    chr22:36155935-36156067\n",
       "9    chr22:36142520-36142608\n",
       "dtype: object"
      ]
     },
     "execution_count": 31,
     "metadata": {},
     "output_type": "execute_result"
    }
   ],
   "source": [
    "rbfox2_bed[0] + ':' + rbfox2_bed[3].astype(str) + '-' + rbfox2_bed[4].astype(str)"
   ]
  },
  {
   "cell_type": "code",
   "execution_count": 27,
   "metadata": {
    "collapsed": true
   },
   "outputs": [],
   "source": [
    "rbfox2_bed.to_csv('/Users/olga/Downloads/rbfox2_exons_test.bed', sep='\\t', index=False, header=False)"
   ]
  },
  {
   "cell_type": "code",
   "execution_count": 28,
   "metadata": {
    "collapsed": true
   },
   "outputs": [],
   "source": [
    "from outrigger.splicestrength import splice_site_sequences"
   ]
  },
  {
   "cell_type": "code",
   "execution_count": null,
   "metadata": {
    "collapsed": true
   },
   "outputs": [],
   "source": []
  },
  {
   "cell_type": "code",
   "execution_count": 29,
   "metadata": {
    "collapsed": false
   },
   "outputs": [
    {
     "ename": "SyntaxError",
     "evalue": "invalid syntax (<ipython-input-29-e5451eda37c3>, line 1)",
     "output_type": "error",
     "traceback": [
      "\u001b[0;36m  File \u001b[0;32m\"<ipython-input-29-e5451eda37c3>\"\u001b[0;36m, line \u001b[0;32m1\u001b[0m\n\u001b[0;31m    seqs = get_ss_sequence('/Users/olga/Downloads/rbfox2_exons_test.bed', 5, genome='hg19', genome_fasta=)\u001b[0m\n\u001b[0m                                                                                                         ^\u001b[0m\n\u001b[0;31mSyntaxError\u001b[0m\u001b[0;31m:\u001b[0m invalid syntax\n"
     ]
    }
   ],
   "source": [
    "seqs = splice_site_sequences('/Users/olga/Downloads/rbfox2_exons_test.bed', 5, \n",
    "                             genome='hg19', genome_fasta='/Users/olga/Downloads/Homo')"
   ]
  },
  {
   "cell_type": "code",
   "execution_count": null,
   "metadata": {
    "collapsed": true
   },
   "outputs": [],
   "source": []
  }
 ],
 "metadata": {
  "kernelspec": {
   "display_name": "Python 2",
   "language": "python",
   "name": "python2"
  },
  "language_info": {
   "codemirror_mode": {
    "name": "ipython",
    "version": 2
   },
   "file_extension": ".py",
   "mimetype": "text/x-python",
   "name": "python",
   "nbconvert_exporter": "python",
   "pygments_lexer": "ipython2",
   "version": "2.7.10"
  }
 },
 "nbformat": 4,
 "nbformat_minor": 0
}
