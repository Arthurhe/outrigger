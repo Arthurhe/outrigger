{
 "cells": [
  {
   "cell_type": "code",
   "execution_count": 12,
   "metadata": {
    "collapsed": false
   },
   "outputs": [],
   "source": [
    "import random\n",
    "\n",
    "from Bio import SeqIO\n",
    "from Bio.Seq import Seq\n",
    "from Bio.SeqRecord import SeqRecord\n",
    "\n",
    "random.seed('outrigger')"
   ]
  },
  {
   "cell_type": "code",
   "execution_count": 19,
   "metadata": {
    "collapsed": false
   },
   "outputs": [
    {
     "data": {
      "text/plain": [
       "SeqRecord(seq=Seq('TTAAACTGATTGCTTACACATACCCTGATTCGTTGTATCCAAACTTCTGACTGT...GGG', Alphabet()), id='chr1', name='<unknown name>', description='', dbxrefs=[])"
      ]
     },
     "execution_count": 19,
     "metadata": {},
     "output_type": "execute_result"
    }
   ],
   "source": [
    "length = 600\n",
    "seq = ''.join(random.choice(\"ACGT\") for _ in range(length))\n",
    "\n",
    "record = SeqRecord(Seq(seq), id='chr1', description='')\n",
    "record"
   ]
  },
  {
   "cell_type": "code",
   "execution_count": 31,
   "metadata": {
    "collapsed": true
   },
   "outputs": [],
   "source": [
    "fasta_filename = 'outrigger/tests/test.fasta'\n",
    "\n",
    "with open(fasta_filename, 'w') as f:\n",
    "    SeqIO.write([record], f, 'fasta')"
   ]
  },
  {
   "cell_type": "code",
   "execution_count": 32,
   "metadata": {
    "collapsed": false
   },
   "outputs": [
    {
     "name": "stdout",
     "output_type": "stream",
     "text": [
      ">chr1\r\n",
      "TTAAACTGATTGCTTACACATACCCTGATTCGTTGTATCCAAACTTCTGACTGTAGGTCC\r\n",
      "TGCGTTGGACCCTGCACTGTCCCTACTGTCCCCAACGGGTCTACTGACTACTGGGACAAA\r\n",
      "CGGACATCCACTTAGGACTCGGCTATGCGACGGGGAGGGCCGCGATTGCTTCTATTGTGT\r\n",
      "CAACCTGTTCCCCCTACACTGACCAGTGCATGTCGTTCGGAGTAGAGGTTGCAATCGGCT\r\n",
      "TGAGGTAGCGTGTACCTCATGTCCATACCATTGCATATCAATCGTTCGAACGTCAGAAGG\r\n",
      "CGTCCTATACTTCGGTCGTTAACCAGGAATCTTGTCGGCGTAGCTACTCTAGTAATGATA\r\n",
      "ATAGTTTCTACATCCGACAACTATAATGCGTAAGTGGTCGAATATTGATGAATCATCCTC\r\n",
      "GCAAGGCCATCTGAGCAAGGCAATGTCCTCTGCTAGGCTTGACGCATTTTGACTGGAAGA\r\n",
      "AATCCATGACAGGCGTGAATCATTACAGTAGTATTCGACACGTGTCCCACTGATACCGTG\r\n",
      "GTACCGGACGAGTACTAGAACCGTGGGTTAGTATGTTAGCCCATCATGCTGCAGTTCGGG\r\n"
     ]
    }
   ],
   "source": [
    "cat $fasta_filename"
   ]
  },
  {
   "cell_type": "code",
   "execution_count": 23,
   "metadata": {
    "collapsed": false
   },
   "outputs": [],
   "source": [
    "from outrigger.tests.test_junctions_to_events import exon_start_stop"
   ]
  },
  {
   "cell_type": "code",
   "execution_count": 27,
   "metadata": {
    "collapsed": false
   },
   "outputs": [
    {
     "data": {
      "text/html": [
       "<div>\n",
       "<table border=\"1\" class=\"dataframe\">\n",
       "  <thead>\n",
       "    <tr style=\"text-align: right;\">\n",
       "      <th></th>\n",
       "      <th>0</th>\n",
       "      <th>1</th>\n",
       "      <th>2</th>\n",
       "      <th>3</th>\n",
       "      <th>4</th>\n",
       "      <th>5</th>\n",
       "    </tr>\n",
       "  </thead>\n",
       "  <tbody>\n",
       "    <tr>\n",
       "      <th>0</th>\n",
       "      <td>chr1</td>\n",
       "      <td>400</td>\n",
       "      <td>425</td>\n",
       "      <td>exon4_positive</td>\n",
       "      <td>.</td>\n",
       "      <td>+</td>\n",
       "    </tr>\n",
       "    <tr>\n",
       "      <th>1</th>\n",
       "      <td>chr1</td>\n",
       "      <td>400</td>\n",
       "      <td>425</td>\n",
       "      <td>exon4_negative</td>\n",
       "      <td>.</td>\n",
       "      <td>-</td>\n",
       "    </tr>\n",
       "    <tr>\n",
       "      <th>2</th>\n",
       "      <td>chr1</td>\n",
       "      <td>100</td>\n",
       "      <td>125</td>\n",
       "      <td>exon1alt_positive</td>\n",
       "      <td>.</td>\n",
       "      <td>+</td>\n",
       "    </tr>\n",
       "    <tr>\n",
       "      <th>3</th>\n",
       "      <td>chr1</td>\n",
       "      <td>100</td>\n",
       "      <td>125</td>\n",
       "      <td>exon1alt_negative</td>\n",
       "      <td>.</td>\n",
       "      <td>-</td>\n",
       "    </tr>\n",
       "    <tr>\n",
       "      <th>4</th>\n",
       "      <td>chr1</td>\n",
       "      <td>225</td>\n",
       "      <td>275</td>\n",
       "      <td>exon2a5ss_positive</td>\n",
       "      <td>.</td>\n",
       "      <td>+</td>\n",
       "    </tr>\n",
       "    <tr>\n",
       "      <th>5</th>\n",
       "      <td>chr1</td>\n",
       "      <td>225</td>\n",
       "      <td>275</td>\n",
       "      <td>exon2a5ss_negative</td>\n",
       "      <td>.</td>\n",
       "      <td>-</td>\n",
       "    </tr>\n",
       "    <tr>\n",
       "      <th>6</th>\n",
       "      <td>chr1</td>\n",
       "      <td>150</td>\n",
       "      <td>175</td>\n",
       "      <td>exon1_positive</td>\n",
       "      <td>.</td>\n",
       "      <td>+</td>\n",
       "    </tr>\n",
       "    <tr>\n",
       "      <th>7</th>\n",
       "      <td>chr1</td>\n",
       "      <td>150</td>\n",
       "      <td>175</td>\n",
       "      <td>exon1_negative</td>\n",
       "      <td>.</td>\n",
       "      <td>-</td>\n",
       "    </tr>\n",
       "    <tr>\n",
       "      <th>8</th>\n",
       "      <td>chr1</td>\n",
       "      <td>300</td>\n",
       "      <td>350</td>\n",
       "      <td>exon3_positive</td>\n",
       "      <td>.</td>\n",
       "      <td>+</td>\n",
       "    </tr>\n",
       "    <tr>\n",
       "      <th>9</th>\n",
       "      <td>chr1</td>\n",
       "      <td>300</td>\n",
       "      <td>350</td>\n",
       "      <td>exon3_negative</td>\n",
       "      <td>.</td>\n",
       "      <td>-</td>\n",
       "    </tr>\n",
       "    <tr>\n",
       "      <th>10</th>\n",
       "      <td>chr1</td>\n",
       "      <td>225</td>\n",
       "      <td>250</td>\n",
       "      <td>exon2_positive</td>\n",
       "      <td>.</td>\n",
       "      <td>+</td>\n",
       "    </tr>\n",
       "    <tr>\n",
       "      <th>11</th>\n",
       "      <td>chr1</td>\n",
       "      <td>225</td>\n",
       "      <td>250</td>\n",
       "      <td>exon2_negative</td>\n",
       "      <td>.</td>\n",
       "      <td>-</td>\n",
       "    </tr>\n",
       "    <tr>\n",
       "      <th>12</th>\n",
       "      <td>chr1</td>\n",
       "      <td>200</td>\n",
       "      <td>250</td>\n",
       "      <td>exon2a3ss_positive</td>\n",
       "      <td>.</td>\n",
       "      <td>+</td>\n",
       "    </tr>\n",
       "    <tr>\n",
       "      <th>13</th>\n",
       "      <td>chr1</td>\n",
       "      <td>200</td>\n",
       "      <td>250</td>\n",
       "      <td>exon2a3ss_negative</td>\n",
       "      <td>.</td>\n",
       "      <td>-</td>\n",
       "    </tr>\n",
       "    <tr>\n",
       "      <th>14</th>\n",
       "      <td>chr1</td>\n",
       "      <td>475</td>\n",
       "      <td>500</td>\n",
       "      <td>exon4alt_positive</td>\n",
       "      <td>.</td>\n",
       "      <td>+</td>\n",
       "    </tr>\n",
       "    <tr>\n",
       "      <th>15</th>\n",
       "      <td>chr1</td>\n",
       "      <td>475</td>\n",
       "      <td>500</td>\n",
       "      <td>exon4alt_negative</td>\n",
       "      <td>.</td>\n",
       "      <td>-</td>\n",
       "    </tr>\n",
       "  </tbody>\n",
       "</table>\n",
       "</div>"
      ],
      "text/plain": [
       "       0    1    2                   3  4  5\n",
       "0   chr1  400  425      exon4_positive  .  +\n",
       "1   chr1  400  425      exon4_negative  .  -\n",
       "2   chr1  100  125   exon1alt_positive  .  +\n",
       "3   chr1  100  125   exon1alt_negative  .  -\n",
       "4   chr1  225  275  exon2a5ss_positive  .  +\n",
       "5   chr1  225  275  exon2a5ss_negative  .  -\n",
       "6   chr1  150  175      exon1_positive  .  +\n",
       "7   chr1  150  175      exon1_negative  .  -\n",
       "8   chr1  300  350      exon3_positive  .  +\n",
       "9   chr1  300  350      exon3_negative  .  -\n",
       "10  chr1  225  250      exon2_positive  .  +\n",
       "11  chr1  225  250      exon2_negative  .  -\n",
       "12  chr1  200  250  exon2a3ss_positive  .  +\n",
       "13  chr1  200  250  exon2a3ss_negative  .  -\n",
       "14  chr1  475  500   exon4alt_positive  .  +\n",
       "15  chr1  475  500   exon4alt_negative  .  -"
      ]
     },
     "execution_count": 27,
     "metadata": {},
     "output_type": "execute_result"
    }
   ],
   "source": [
    "import pandas as pd\n",
    "\n",
    "\n",
    "bed_lines = []\n",
    "\n",
    "strands = {'positive': '+', 'negative': '-'}\n",
    "\n",
    "for name, (start, stop) in exon_start_stop().items():\n",
    "    for strand_name, strand in strands.items():\n",
    "        line = ['chr1', start, stop, '{}_{}'.format(name, strand_name), '.', strand]\n",
    "        bed_lines.append(line)\n",
    "bed = pd.DataFrame(bed_lines)\n",
    "bed"
   ]
  },
  {
   "cell_type": "code",
   "execution_count": 29,
   "metadata": {
    "collapsed": true
   },
   "outputs": [],
   "source": [
    "bed_filename = 'outrigger/tests/test.bed'\n",
    "bed.to_csv(bed_filename, sep='\\t', header=False, index=False)"
   ]
  },
  {
   "cell_type": "code",
   "execution_count": 30,
   "metadata": {
    "collapsed": false
   },
   "outputs": [
    {
     "name": "stdout",
     "output_type": "stream",
     "text": [
      "chr1\t400\t425\texon4_positive\t.\t+\r\n",
      "chr1\t400\t425\texon4_negative\t.\t-\r\n",
      "chr1\t100\t125\texon1alt_positive\t.\t+\r\n",
      "chr1\t100\t125\texon1alt_negative\t.\t-\r\n",
      "chr1\t225\t275\texon2a5ss_positive\t.\t+\r\n",
      "chr1\t225\t275\texon2a5ss_negative\t.\t-\r\n",
      "chr1\t150\t175\texon1_positive\t.\t+\r\n",
      "chr1\t150\t175\texon1_negative\t.\t-\r\n",
      "chr1\t300\t350\texon3_positive\t.\t+\r\n",
      "chr1\t300\t350\texon3_negative\t.\t-\r\n",
      "chr1\t225\t250\texon2_positive\t.\t+\r\n",
      "chr1\t225\t250\texon2_negative\t.\t-\r\n",
      "chr1\t200\t250\texon2a3ss_positive\t.\t+\r\n",
      "chr1\t200\t250\texon2a3ss_negative\t.\t-\r\n",
      "chr1\t475\t500\texon4alt_positive\t.\t+\r\n",
      "chr1\t475\t500\texon4alt_negative\t.\t-\r\n"
     ]
    }
   ],
   "source": [
    "cat $bed_filename"
   ]
  },
  {
   "cell_type": "code",
   "execution_count": null,
   "metadata": {
    "collapsed": true
   },
   "outputs": [],
   "source": []
  }
 ],
 "metadata": {
  "kernelspec": {
   "display_name": "Python 2",
   "language": "python",
   "name": "python2"
  },
  "language_info": {
   "codemirror_mode": {
    "name": "ipython",
    "version": 2
   },
   "file_extension": ".py",
   "mimetype": "text/x-python",
   "name": "python",
   "nbconvert_exporter": "python",
   "pygments_lexer": "ipython2",
   "version": "2.7.10"
  }
 },
 "nbformat": 4,
 "nbformat_minor": 0
}
