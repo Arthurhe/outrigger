{
 "cells": [
  {
   "cell_type": "code",
   "execution_count": null,
   "metadata": {
    "collapsed": true
   },
   "outputs": [],
   "source": []
  },
  {
   "cell_type": "code",
   "execution_count": 3,
   "metadata": {
    "collapsed": false
   },
   "outputs": [
    {
     "name": "stdout",
     "output_type": "stream",
     "text": [
      "The autoreload extension is already loaded. To reload it, use:\n",
      "  %reload_ext autoreload\n"
     ]
    }
   ],
   "source": [
    "import pandas as pd\n",
    "import numpy as np\n",
    "import matplotlib.pyplot as plt\n",
    "import seaborn as sns\n",
    "sns.set(style='ticks', context='talk')\n",
    "import gffutils\n",
    "\n",
    "%matplotlib inline\n",
    "\n",
    "%load_ext autoreload\n",
    "%autoreload"
   ]
  },
  {
   "cell_type": "code",
   "execution_count": 4,
   "metadata": {
    "collapsed": false
   },
   "outputs": [
    {
     "name": "stdout",
     "output_type": "stream",
     "text": [
      "/Users/olga/projects/gtex\n"
     ]
    }
   ],
   "source": [
    "cd ~/projects/gtex"
   ]
  },
  {
   "cell_type": "code",
   "execution_count": 5,
   "metadata": {
    "collapsed": true
   },
   "outputs": [],
   "source": [
    "junctions = pd.read_table('GTEx_Analysis_v6_RNA-seq_Flux1.6_junction_reads_first100.txt', index_col=[0, 1, 2, 3])"
   ]
  },
  {
   "cell_type": "code",
   "execution_count": 6,
   "metadata": {
    "collapsed": false
   },
   "outputs": [
    {
     "data": {
      "text/html": [
       "<div>\n",
       "<table border=\"1\" class=\"dataframe\">\n",
       "  <thead>\n",
       "    <tr style=\"text-align: right;\">\n",
       "      <th></th>\n",
       "      <th>TargetID</th>\n",
       "      <th>Gene_Symbol</th>\n",
       "      <th>Chr</th>\n",
       "      <th>Coord</th>\n",
       "    </tr>\n",
       "  </thead>\n",
       "  <tbody>\n",
       "    <tr>\n",
       "      <th>0</th>\n",
       "      <td>10_100008748_100010822</td>\n",
       "      <td>ENSG00000138131.3</td>\n",
       "      <td>10</td>\n",
       "      <td>100028007</td>\n",
       "    </tr>\n",
       "    <tr>\n",
       "      <th>1</th>\n",
       "      <td>10_100010933_100011323</td>\n",
       "      <td>ENSG00000138131.3</td>\n",
       "      <td>10</td>\n",
       "      <td>100028007</td>\n",
       "    </tr>\n",
       "    <tr>\n",
       "      <th>2</th>\n",
       "      <td>10_100011459_100012110</td>\n",
       "      <td>ENSG00000138131.3</td>\n",
       "      <td>10</td>\n",
       "      <td>100028007</td>\n",
       "    </tr>\n",
       "    <tr>\n",
       "      <th>3</th>\n",
       "      <td>10_100011959_100015345</td>\n",
       "      <td>ENSG00000230928.1</td>\n",
       "      <td>10</td>\n",
       "      <td>100011780</td>\n",
       "    </tr>\n",
       "    <tr>\n",
       "      <th>4</th>\n",
       "      <td>10_100012225_100013310</td>\n",
       "      <td>ENSG00000138131.3</td>\n",
       "      <td>10</td>\n",
       "      <td>100028007</td>\n",
       "    </tr>\n",
       "  </tbody>\n",
       "</table>\n",
       "</div>"
      ],
      "text/plain": [
       "                 TargetID        Gene_Symbol  Chr     Coord \n",
       "0  10_100008748_100010822  ENSG00000138131.3   10  100028007\n",
       "1  10_100010933_100011323  ENSG00000138131.3   10  100028007\n",
       "2  10_100011459_100012110  ENSG00000138131.3   10  100028007\n",
       "3  10_100011959_100015345  ENSG00000230928.1   10  100011780\n",
       "4  10_100012225_100013310  ENSG00000138131.3   10  100028007"
      ]
     },
     "execution_count": 6,
     "metadata": {},
     "output_type": "execute_result"
    }
   ],
   "source": [
    "splicing_feature_data = pd.DataFrame(index=junctions.index)\n",
    "splicing_feature_data = splicing_feature_data.reset_index()\n",
    "splicing_feature_data.head()"
   ]
  },
  {
   "cell_type": "code",
   "execution_count": 7,
   "metadata": {
    "collapsed": false
   },
   "outputs": [
    {
     "data": {
      "text/html": [
       "<div>\n",
       "<table border=\"1\" class=\"dataframe\">\n",
       "  <thead>\n",
       "    <tr style=\"text-align: right;\">\n",
       "      <th></th>\n",
       "      <th>chrom</th>\n",
       "      <th>start</th>\n",
       "      <th>stop</th>\n",
       "    </tr>\n",
       "  </thead>\n",
       "  <tbody>\n",
       "    <tr>\n",
       "      <th>0</th>\n",
       "      <td>chr10</td>\n",
       "      <td>100008748</td>\n",
       "      <td>100010822</td>\n",
       "    </tr>\n",
       "    <tr>\n",
       "      <th>1</th>\n",
       "      <td>chr10</td>\n",
       "      <td>100010933</td>\n",
       "      <td>100011323</td>\n",
       "    </tr>\n",
       "    <tr>\n",
       "      <th>2</th>\n",
       "      <td>chr10</td>\n",
       "      <td>100011459</td>\n",
       "      <td>100012110</td>\n",
       "    </tr>\n",
       "    <tr>\n",
       "      <th>3</th>\n",
       "      <td>chr10</td>\n",
       "      <td>100011959</td>\n",
       "      <td>100015345</td>\n",
       "    </tr>\n",
       "    <tr>\n",
       "      <th>4</th>\n",
       "      <td>chr10</td>\n",
       "      <td>100012225</td>\n",
       "      <td>100013310</td>\n",
       "    </tr>\n",
       "  </tbody>\n",
       "</table>\n",
       "</div>"
      ],
      "text/plain": [
       "   chrom      start       stop\n",
       "0  chr10  100008748  100010822\n",
       "1  chr10  100010933  100011323\n",
       "2  chr10  100011459  100012110\n",
       "3  chr10  100011959  100015345\n",
       "4  chr10  100012225  100013310"
      ]
     },
     "execution_count": 7,
     "metadata": {},
     "output_type": "execute_result"
    }
   ],
   "source": [
    "junction_location = splicing_feature_data[\"TargetID\"].str.split('_').apply(pd.Series)\n",
    "junction_location = junction_location.rename(columns={0:'chrom', 1:'start', 2: 'stop'})\n",
    "junction_location['chrom'] = 'chr' + junction_location['chrom']\n",
    "junction_location.head()"
   ]
  },
  {
   "cell_type": "code",
   "execution_count": 8,
   "metadata": {
    "collapsed": false
   },
   "outputs": [
    {
     "data": {
      "text/html": [
       "<div>\n",
       "<table border=\"1\" class=\"dataframe\">\n",
       "  <thead>\n",
       "    <tr style=\"text-align: right;\">\n",
       "      <th></th>\n",
       "      <th>TargetID</th>\n",
       "      <th>Gene_Symbol</th>\n",
       "      <th>Chr</th>\n",
       "      <th>Coord</th>\n",
       "      <th>chrom</th>\n",
       "      <th>start</th>\n",
       "      <th>stop</th>\n",
       "    </tr>\n",
       "  </thead>\n",
       "  <tbody>\n",
       "    <tr>\n",
       "      <th>0</th>\n",
       "      <td>10_100008748_100010822</td>\n",
       "      <td>ENSG00000138131.3</td>\n",
       "      <td>10</td>\n",
       "      <td>100028007</td>\n",
       "      <td>chr10</td>\n",
       "      <td>100008748</td>\n",
       "      <td>100010822</td>\n",
       "    </tr>\n",
       "    <tr>\n",
       "      <th>1</th>\n",
       "      <td>10_100010933_100011323</td>\n",
       "      <td>ENSG00000138131.3</td>\n",
       "      <td>10</td>\n",
       "      <td>100028007</td>\n",
       "      <td>chr10</td>\n",
       "      <td>100010933</td>\n",
       "      <td>100011323</td>\n",
       "    </tr>\n",
       "    <tr>\n",
       "      <th>2</th>\n",
       "      <td>10_100011459_100012110</td>\n",
       "      <td>ENSG00000138131.3</td>\n",
       "      <td>10</td>\n",
       "      <td>100028007</td>\n",
       "      <td>chr10</td>\n",
       "      <td>100011459</td>\n",
       "      <td>100012110</td>\n",
       "    </tr>\n",
       "    <tr>\n",
       "      <th>3</th>\n",
       "      <td>10_100011959_100015345</td>\n",
       "      <td>ENSG00000230928.1</td>\n",
       "      <td>10</td>\n",
       "      <td>100011780</td>\n",
       "      <td>chr10</td>\n",
       "      <td>100011959</td>\n",
       "      <td>100015345</td>\n",
       "    </tr>\n",
       "    <tr>\n",
       "      <th>4</th>\n",
       "      <td>10_100012225_100013310</td>\n",
       "      <td>ENSG00000138131.3</td>\n",
       "      <td>10</td>\n",
       "      <td>100028007</td>\n",
       "      <td>chr10</td>\n",
       "      <td>100012225</td>\n",
       "      <td>100013310</td>\n",
       "    </tr>\n",
       "  </tbody>\n",
       "</table>\n",
       "</div>"
      ],
      "text/plain": [
       "                 TargetID        Gene_Symbol  Chr     Coord   chrom  \\\n",
       "0  10_100008748_100010822  ENSG00000138131.3   10  100028007  chr10   \n",
       "1  10_100010933_100011323  ENSG00000138131.3   10  100028007  chr10   \n",
       "2  10_100011459_100012110  ENSG00000138131.3   10  100028007  chr10   \n",
       "3  10_100011959_100015345  ENSG00000230928.1   10  100011780  chr10   \n",
       "4  10_100012225_100013310  ENSG00000138131.3   10  100028007  chr10   \n",
       "\n",
       "       start       stop  \n",
       "0  100008748  100010822  \n",
       "1  100010933  100011323  \n",
       "2  100011459  100012110  \n",
       "3  100011959  100015345  \n",
       "4  100012225  100013310  "
      ]
     },
     "execution_count": 8,
     "metadata": {},
     "output_type": "execute_result"
    }
   ],
   "source": [
    "splicing_feature_data = pd.concat([splicing_feature_data, junction_location], axis=1)\n",
    "splicing_feature_data.head()"
   ]
  },
  {
   "cell_type": "code",
   "execution_count": 9,
   "metadata": {
    "collapsed": false
   },
   "outputs": [
    {
     "data": {
      "text/html": [
       "<div>\n",
       "<table border=\"1\" class=\"dataframe\">\n",
       "  <thead>\n",
       "    <tr style=\"text-align: right;\">\n",
       "      <th></th>\n",
       "      <th>TargetID</th>\n",
       "      <th>Gene_Symbol</th>\n",
       "      <th>Chr</th>\n",
       "      <th>Coord</th>\n",
       "      <th>chrom</th>\n",
       "      <th>start</th>\n",
       "      <th>stop</th>\n",
       "      <th>junction_id</th>\n",
       "    </tr>\n",
       "  </thead>\n",
       "  <tbody>\n",
       "    <tr>\n",
       "      <th>0</th>\n",
       "      <td>10_100008748_100010822</td>\n",
       "      <td>ENSG00000138131.3</td>\n",
       "      <td>10</td>\n",
       "      <td>100028007</td>\n",
       "      <td>chr10</td>\n",
       "      <td>100008748</td>\n",
       "      <td>100010822</td>\n",
       "      <td>chr10:100008748-100010822</td>\n",
       "    </tr>\n",
       "    <tr>\n",
       "      <th>1</th>\n",
       "      <td>10_100010933_100011323</td>\n",
       "      <td>ENSG00000138131.3</td>\n",
       "      <td>10</td>\n",
       "      <td>100028007</td>\n",
       "      <td>chr10</td>\n",
       "      <td>100010933</td>\n",
       "      <td>100011323</td>\n",
       "      <td>chr10:100010933-100011323</td>\n",
       "    </tr>\n",
       "    <tr>\n",
       "      <th>2</th>\n",
       "      <td>10_100011459_100012110</td>\n",
       "      <td>ENSG00000138131.3</td>\n",
       "      <td>10</td>\n",
       "      <td>100028007</td>\n",
       "      <td>chr10</td>\n",
       "      <td>100011459</td>\n",
       "      <td>100012110</td>\n",
       "      <td>chr10:100011459-100012110</td>\n",
       "    </tr>\n",
       "    <tr>\n",
       "      <th>3</th>\n",
       "      <td>10_100011959_100015345</td>\n",
       "      <td>ENSG00000230928.1</td>\n",
       "      <td>10</td>\n",
       "      <td>100011780</td>\n",
       "      <td>chr10</td>\n",
       "      <td>100011959</td>\n",
       "      <td>100015345</td>\n",
       "      <td>chr10:100011959-100015345</td>\n",
       "    </tr>\n",
       "    <tr>\n",
       "      <th>4</th>\n",
       "      <td>10_100012225_100013310</td>\n",
       "      <td>ENSG00000138131.3</td>\n",
       "      <td>10</td>\n",
       "      <td>100028007</td>\n",
       "      <td>chr10</td>\n",
       "      <td>100012225</td>\n",
       "      <td>100013310</td>\n",
       "      <td>chr10:100012225-100013310</td>\n",
       "    </tr>\n",
       "  </tbody>\n",
       "</table>\n",
       "</div>"
      ],
      "text/plain": [
       "                 TargetID        Gene_Symbol  Chr     Coord   chrom  \\\n",
       "0  10_100008748_100010822  ENSG00000138131.3   10  100028007  chr10   \n",
       "1  10_100010933_100011323  ENSG00000138131.3   10  100028007  chr10   \n",
       "2  10_100011459_100012110  ENSG00000138131.3   10  100028007  chr10   \n",
       "3  10_100011959_100015345  ENSG00000230928.1   10  100011780  chr10   \n",
       "4  10_100012225_100013310  ENSG00000138131.3   10  100028007  chr10   \n",
       "\n",
       "       start       stop                junction_id  \n",
       "0  100008748  100010822  chr10:100008748-100010822  \n",
       "1  100010933  100011323  chr10:100010933-100011323  \n",
       "2  100011459  100012110  chr10:100011459-100012110  \n",
       "3  100011959  100015345  chr10:100011959-100015345  \n",
       "4  100012225  100013310  chr10:100012225-100013310  "
      ]
     },
     "execution_count": 9,
     "metadata": {},
     "output_type": "execute_result"
    }
   ],
   "source": [
    "splicing_feature_data['junction_id'] = splicing_feature_data.apply(\n",
    "    lambda x: '{}:{}-{}'.format(x['chrom'], x['start'], x['stop']), axis=1)\n",
    "splicing_feature_data.head()"
   ]
  },
  {
   "cell_type": "code",
   "execution_count": 10,
   "metadata": {
    "collapsed": true
   },
   "outputs": [],
   "source": [
    "startstop = ['start', 'stop']\n",
    "\n",
    "splicing_feature_data[startstop] = splicing_feature_data[startstop].astype(long)"
   ]
  },
  {
   "cell_type": "code",
   "execution_count": 11,
   "metadata": {
    "collapsed": true
   },
   "outputs": [],
   "source": [
    "import gffutils\n",
    "gtf_filename = 'gencode.v19.transcripts.patched_contigs.gtf'\n",
    "db_filename = gtf_filename + '.db'\n",
    "\n",
    "db = gffutils.FeatureDB(db_filename)"
   ]
  },
  {
   "cell_type": "code",
   "execution_count": 12,
   "metadata": {
    "collapsed": false
   },
   "outputs": [
    {
     "data": {
      "text/html": [
       "<div>\n",
       "<table border=\"1\" class=\"dataframe\">\n",
       "  <thead>\n",
       "    <tr style=\"text-align: right;\">\n",
       "      <th></th>\n",
       "      <th>TargetID</th>\n",
       "      <th>Gene_Symbol</th>\n",
       "      <th>Chr</th>\n",
       "      <th>Coord</th>\n",
       "      <th>chrom</th>\n",
       "      <th>start</th>\n",
       "      <th>stop</th>\n",
       "      <th>junction_id</th>\n",
       "      <th>exon_start</th>\n",
       "      <th>exon_stop</th>\n",
       "    </tr>\n",
       "  </thead>\n",
       "  <tbody>\n",
       "    <tr>\n",
       "      <th>0</th>\n",
       "      <td>10_100008748_100010822</td>\n",
       "      <td>ENSG00000138131.3</td>\n",
       "      <td>10</td>\n",
       "      <td>100028007</td>\n",
       "      <td>chr10</td>\n",
       "      <td>100008748</td>\n",
       "      <td>100010822</td>\n",
       "      <td>chr10:100008748-100010822</td>\n",
       "      <td>100010822</td>\n",
       "      <td>100008748</td>\n",
       "    </tr>\n",
       "    <tr>\n",
       "      <th>1</th>\n",
       "      <td>10_100010933_100011323</td>\n",
       "      <td>ENSG00000138131.3</td>\n",
       "      <td>10</td>\n",
       "      <td>100028007</td>\n",
       "      <td>chr10</td>\n",
       "      <td>100010933</td>\n",
       "      <td>100011323</td>\n",
       "      <td>chr10:100010933-100011323</td>\n",
       "      <td>100011323</td>\n",
       "      <td>100010933</td>\n",
       "    </tr>\n",
       "    <tr>\n",
       "      <th>2</th>\n",
       "      <td>10_100011459_100012110</td>\n",
       "      <td>ENSG00000138131.3</td>\n",
       "      <td>10</td>\n",
       "      <td>100028007</td>\n",
       "      <td>chr10</td>\n",
       "      <td>100011459</td>\n",
       "      <td>100012110</td>\n",
       "      <td>chr10:100011459-100012110</td>\n",
       "      <td>100012110</td>\n",
       "      <td>100011459</td>\n",
       "    </tr>\n",
       "    <tr>\n",
       "      <th>3</th>\n",
       "      <td>10_100011959_100015345</td>\n",
       "      <td>ENSG00000230928.1</td>\n",
       "      <td>10</td>\n",
       "      <td>100011780</td>\n",
       "      <td>chr10</td>\n",
       "      <td>100011959</td>\n",
       "      <td>100015345</td>\n",
       "      <td>chr10:100011959-100015345</td>\n",
       "      <td>100015345</td>\n",
       "      <td>100011959</td>\n",
       "    </tr>\n",
       "    <tr>\n",
       "      <th>4</th>\n",
       "      <td>10_100012225_100013310</td>\n",
       "      <td>ENSG00000138131.3</td>\n",
       "      <td>10</td>\n",
       "      <td>100028007</td>\n",
       "      <td>chr10</td>\n",
       "      <td>100012225</td>\n",
       "      <td>100013310</td>\n",
       "      <td>chr10:100012225-100013310</td>\n",
       "      <td>100013310</td>\n",
       "      <td>100012225</td>\n",
       "    </tr>\n",
       "  </tbody>\n",
       "</table>\n",
       "</div>"
      ],
      "text/plain": [
       "                 TargetID        Gene_Symbol  Chr     Coord   chrom  \\\n",
       "0  10_100008748_100010822  ENSG00000138131.3   10  100028007  chr10   \n",
       "1  10_100010933_100011323  ENSG00000138131.3   10  100028007  chr10   \n",
       "2  10_100011459_100012110  ENSG00000138131.3   10  100028007  chr10   \n",
       "3  10_100011959_100015345  ENSG00000230928.1   10  100011780  chr10   \n",
       "4  10_100012225_100013310  ENSG00000138131.3   10  100028007  chr10   \n",
       "\n",
       "       start       stop                junction_id  exon_start  exon_stop  \n",
       "0  100008748  100010822  chr10:100008748-100010822   100010822  100008748  \n",
       "1  100010933  100011323  chr10:100010933-100011323   100011323  100010933  \n",
       "2  100011459  100012110  chr10:100011459-100012110   100012110  100011459  \n",
       "3  100011959  100015345  chr10:100011959-100015345   100015345  100011959  \n",
       "4  100012225  100013310  chr10:100012225-100013310   100013310  100012225  "
      ]
     },
     "execution_count": 12,
     "metadata": {},
     "output_type": "execute_result"
    }
   ],
   "source": [
    "splicing_feature_data['exon_start'] = splicing_feature_data['stop']\n",
    "splicing_feature_data['exon_stop'] = splicing_feature_data['start']\n",
    "splicing_feature_data.head()"
   ]
  },
  {
   "cell_type": "code",
   "execution_count": 13,
   "metadata": {
    "collapsed": false
   },
   "outputs": [
    {
     "data": {
      "text/html": [
       "<div>\n",
       "<table border=\"1\" class=\"dataframe\">\n",
       "  <thead>\n",
       "    <tr style=\"text-align: right;\">\n",
       "      <th></th>\n",
       "      <th>TargetID</th>\n",
       "      <th>Gene_Symbol</th>\n",
       "      <th>Chr</th>\n",
       "      <th>Coord</th>\n",
       "      <th>chrom</th>\n",
       "      <th>start</th>\n",
       "      <th>stop</th>\n",
       "      <th>junction_id</th>\n",
       "      <th>exon_start</th>\n",
       "      <th>exon_stop</th>\n",
       "      <th>strand</th>\n",
       "    </tr>\n",
       "  </thead>\n",
       "  <tbody>\n",
       "    <tr>\n",
       "      <th>0</th>\n",
       "      <td>10_100008748_100010822</td>\n",
       "      <td>ENSG00000138131.3</td>\n",
       "      <td>10</td>\n",
       "      <td>100028007</td>\n",
       "      <td>chr10</td>\n",
       "      <td>100008748</td>\n",
       "      <td>100010822</td>\n",
       "      <td>chr10:100008748-100010822</td>\n",
       "      <td>100010822</td>\n",
       "      <td>100008748</td>\n",
       "      <td>-</td>\n",
       "    </tr>\n",
       "    <tr>\n",
       "      <th>1</th>\n",
       "      <td>10_100010933_100011323</td>\n",
       "      <td>ENSG00000138131.3</td>\n",
       "      <td>10</td>\n",
       "      <td>100028007</td>\n",
       "      <td>chr10</td>\n",
       "      <td>100010933</td>\n",
       "      <td>100011323</td>\n",
       "      <td>chr10:100010933-100011323</td>\n",
       "      <td>100011323</td>\n",
       "      <td>100010933</td>\n",
       "      <td>-</td>\n",
       "    </tr>\n",
       "    <tr>\n",
       "      <th>2</th>\n",
       "      <td>10_100011459_100012110</td>\n",
       "      <td>ENSG00000138131.3</td>\n",
       "      <td>10</td>\n",
       "      <td>100028007</td>\n",
       "      <td>chr10</td>\n",
       "      <td>100011459</td>\n",
       "      <td>100012110</td>\n",
       "      <td>chr10:100011459-100012110</td>\n",
       "      <td>100012110</td>\n",
       "      <td>100011459</td>\n",
       "      <td>-</td>\n",
       "    </tr>\n",
       "    <tr>\n",
       "      <th>3</th>\n",
       "      <td>10_100011959_100015345</td>\n",
       "      <td>ENSG00000230928.1</td>\n",
       "      <td>10</td>\n",
       "      <td>100011780</td>\n",
       "      <td>chr10</td>\n",
       "      <td>100011959</td>\n",
       "      <td>100015345</td>\n",
       "      <td>chr10:100011959-100015345</td>\n",
       "      <td>100015345</td>\n",
       "      <td>100011959</td>\n",
       "      <td>+</td>\n",
       "    </tr>\n",
       "    <tr>\n",
       "      <th>4</th>\n",
       "      <td>10_100012225_100013310</td>\n",
       "      <td>ENSG00000138131.3</td>\n",
       "      <td>10</td>\n",
       "      <td>100028007</td>\n",
       "      <td>chr10</td>\n",
       "      <td>100012225</td>\n",
       "      <td>100013310</td>\n",
       "      <td>chr10:100012225-100013310</td>\n",
       "      <td>100013310</td>\n",
       "      <td>100012225</td>\n",
       "      <td>-</td>\n",
       "    </tr>\n",
       "  </tbody>\n",
       "</table>\n",
       "</div>"
      ],
      "text/plain": [
       "                 TargetID        Gene_Symbol  Chr     Coord   chrom  \\\n",
       "0  10_100008748_100010822  ENSG00000138131.3   10  100028007  chr10   \n",
       "1  10_100010933_100011323  ENSG00000138131.3   10  100028007  chr10   \n",
       "2  10_100011459_100012110  ENSG00000138131.3   10  100028007  chr10   \n",
       "3  10_100011959_100015345  ENSG00000230928.1   10  100011780  chr10   \n",
       "4  10_100012225_100013310  ENSG00000138131.3   10  100028007  chr10   \n",
       "\n",
       "       start       stop                junction_id  exon_start  exon_stop  \\\n",
       "0  100008748  100010822  chr10:100008748-100010822   100010822  100008748   \n",
       "1  100010933  100011323  chr10:100010933-100011323   100011323  100010933   \n",
       "2  100011459  100012110  chr10:100011459-100012110   100012110  100011459   \n",
       "3  100011959  100015345  chr10:100011959-100015345   100015345  100011959   \n",
       "4  100012225  100013310  chr10:100012225-100013310   100013310  100012225   \n",
       "\n",
       "  strand  \n",
       "0      -  \n",
       "1      -  \n",
       "2      -  \n",
       "3      +  \n",
       "4      -  "
      ]
     },
     "execution_count": 13,
     "metadata": {},
     "output_type": "execute_result"
    }
   ],
   "source": [
    "splicing_feature_data['strand'] = splicing_feature_data['Gene_Symbol'].apply(lambda x: db[x].strand)\n",
    "splicing_feature_data.head()"
   ]
  },
  {
   "cell_type": "code",
   "execution_count": 14,
   "metadata": {
    "collapsed": true
   },
   "outputs": [],
   "source": [
    "splicing_feature_data['Chr'] = splicing_feature_data['Chr'].astype(str)\n",
    "splicing_feature_data = splicing_feature_data.set_index('junction_id')"
   ]
  },
  {
   "cell_type": "code",
   "execution_count": 15,
   "metadata": {
    "collapsed": true
   },
   "outputs": [],
   "source": [
    "from joblib import Parallel, delayed\n",
    "from joblib.pool import has_shareable_memory"
   ]
  },
  {
   "cell_type": "code",
   "execution_count": 16,
   "metadata": {
    "collapsed": true
   },
   "outputs": [],
   "source": [
    "from outrigger.junctions_to_events import make_junction_direction_df, UPSTREAM, DOWNSTREAM"
   ]
  },
  {
   "cell_type": "markdown",
   "metadata": {},
   "source": [
    "    Parallel(n_jobs=2)(delayed(sqrt)(i ** 2) for i in range(10))"
   ]
  },
  {
   "cell_type": "code",
   "execution_count": 20,
   "metadata": {
    "collapsed": false
   },
   "outputs": [],
   "source": [
    "def genome_to_transcript_adjacency(adjacent_in_genome, strand):\n",
    "    if strand == '+':\n",
    "        return {UPSTREAM: adjacent_in_genome[UPSTREAM], DOWNSTREAM: adjacent_in_genome[DOWNSTREAM]}\n",
    "    elif strand == '-':\n",
    "        return {UPSTREAM: adjacent_in_genome[DOWNSTREAM], DOWNSTREAM: adjacent_in_genome[UPSTREAM]}\n",
    "\n",
    "def genome_adjacent(exon, sj_metadata, exon_start='exon_start',\n",
    "                       exon_stop='exon_stop', chrom='chrom', strand='strand'):\n",
    "    chrom_ind = sj_metadata[chrom] == exon.chrom\n",
    "\n",
    "    strand_ind = sj_metadata[strand] == exon.strand\n",
    "    \n",
    "    upstream_in_genome = chrom_ind & strand_ind \\\n",
    "        & (sj_metadata[exon_stop] == exon.stop)\n",
    "    downstream_in_genome = chrom_ind & strand_ind \\\n",
    "        & (sj_metadata[exon_start] == exon.start)\n",
    "    return {UPSTREAM: upstream_in_genome, DOWNSTREAM: downstream_in_genome}\n",
    "\n",
    "        \n",
    "def adjacent_junctions(exon, sj_metadata, exon_start='exon_start',\n",
    "                       exon_stop='exon_stop', chrom='chrom', strand='strand'):\n",
    "    dfs = []\n",
    "    adjacent_in_genome = genome_adjacent(exon, sj_metadata, exon_start, exon_stop, chrom, strand)\n",
    "    adjacent_in_transcriptome = genome_to_transcript_adjacency(adjacent_in_genome, exon.strand)\n",
    "    \n",
    "    exon_id = exon.id\n",
    "    for direction, ind in direction_in_transcriptome.items():\n",
    "        if ind.any():\n",
    "            df = make_junction_direction_df(ind, direction, exon_id)\n",
    "            dfs.append(df)\n",
    "\n",
    "    if len(dfs) > 0:\n",
    "        return pd.concat(dfs, ignore_index=True)\n",
    "    else:\n",
    "        return pd.DataFrame()\n"
   ]
  },
  {
   "cell_type": "code",
   "execution_count": 21,
   "metadata": {
    "collapsed": false
   },
   "outputs": [
    {
     "data": {
      "text/html": [
       "<div>\n",
       "<table border=\"1\" class=\"dataframe\">\n",
       "  <thead>\n",
       "    <tr style=\"text-align: right;\">\n",
       "      <th></th>\n",
       "      <th>TargetID</th>\n",
       "      <th>Gene_Symbol</th>\n",
       "      <th>Chr</th>\n",
       "      <th>Coord</th>\n",
       "      <th>chrom</th>\n",
       "      <th>start</th>\n",
       "      <th>stop</th>\n",
       "      <th>exon_start</th>\n",
       "      <th>exon_stop</th>\n",
       "      <th>strand</th>\n",
       "    </tr>\n",
       "    <tr>\n",
       "      <th>junction_id</th>\n",
       "      <th></th>\n",
       "      <th></th>\n",
       "      <th></th>\n",
       "      <th></th>\n",
       "      <th></th>\n",
       "      <th></th>\n",
       "      <th></th>\n",
       "      <th></th>\n",
       "      <th></th>\n",
       "      <th></th>\n",
       "    </tr>\n",
       "  </thead>\n",
       "  <tbody>\n",
       "    <tr>\n",
       "      <th>chr10:100008748-100010822</th>\n",
       "      <td>10_100008748_100010822</td>\n",
       "      <td>ENSG00000138131.3</td>\n",
       "      <td>10</td>\n",
       "      <td>100028007</td>\n",
       "      <td>chr10</td>\n",
       "      <td>100008748</td>\n",
       "      <td>100010822</td>\n",
       "      <td>100010822</td>\n",
       "      <td>100008748</td>\n",
       "      <td>-</td>\n",
       "    </tr>\n",
       "    <tr>\n",
       "      <th>chr10:100010933-100011323</th>\n",
       "      <td>10_100010933_100011323</td>\n",
       "      <td>ENSG00000138131.3</td>\n",
       "      <td>10</td>\n",
       "      <td>100028007</td>\n",
       "      <td>chr10</td>\n",
       "      <td>100010933</td>\n",
       "      <td>100011323</td>\n",
       "      <td>100011323</td>\n",
       "      <td>100010933</td>\n",
       "      <td>-</td>\n",
       "    </tr>\n",
       "    <tr>\n",
       "      <th>chr10:100011459-100012110</th>\n",
       "      <td>10_100011459_100012110</td>\n",
       "      <td>ENSG00000138131.3</td>\n",
       "      <td>10</td>\n",
       "      <td>100028007</td>\n",
       "      <td>chr10</td>\n",
       "      <td>100011459</td>\n",
       "      <td>100012110</td>\n",
       "      <td>100012110</td>\n",
       "      <td>100011459</td>\n",
       "      <td>-</td>\n",
       "    </tr>\n",
       "    <tr>\n",
       "      <th>chr10:100011959-100015345</th>\n",
       "      <td>10_100011959_100015345</td>\n",
       "      <td>ENSG00000230928.1</td>\n",
       "      <td>10</td>\n",
       "      <td>100011780</td>\n",
       "      <td>chr10</td>\n",
       "      <td>100011959</td>\n",
       "      <td>100015345</td>\n",
       "      <td>100015345</td>\n",
       "      <td>100011959</td>\n",
       "      <td>+</td>\n",
       "    </tr>\n",
       "    <tr>\n",
       "      <th>chr10:100012225-100013310</th>\n",
       "      <td>10_100012225_100013310</td>\n",
       "      <td>ENSG00000138131.3</td>\n",
       "      <td>10</td>\n",
       "      <td>100028007</td>\n",
       "      <td>chr10</td>\n",
       "      <td>100012225</td>\n",
       "      <td>100013310</td>\n",
       "      <td>100013310</td>\n",
       "      <td>100012225</td>\n",
       "      <td>-</td>\n",
       "    </tr>\n",
       "  </tbody>\n",
       "</table>\n",
       "</div>"
      ],
      "text/plain": [
       "                                         TargetID        Gene_Symbol Chr  \\\n",
       "junction_id                                                                \n",
       "chr10:100008748-100010822  10_100008748_100010822  ENSG00000138131.3  10   \n",
       "chr10:100010933-100011323  10_100010933_100011323  ENSG00000138131.3  10   \n",
       "chr10:100011459-100012110  10_100011459_100012110  ENSG00000138131.3  10   \n",
       "chr10:100011959-100015345  10_100011959_100015345  ENSG00000230928.1  10   \n",
       "chr10:100012225-100013310  10_100012225_100013310  ENSG00000138131.3  10   \n",
       "\n",
       "                              Coord   chrom      start       stop  exon_start  \\\n",
       "junction_id                                                                     \n",
       "chr10:100008748-100010822  100028007  chr10  100008748  100010822   100010822   \n",
       "chr10:100010933-100011323  100028007  chr10  100010933  100011323   100011323   \n",
       "chr10:100011459-100012110  100028007  chr10  100011459  100012110   100012110   \n",
       "chr10:100011959-100015345  100011780  chr10  100011959  100015345   100015345   \n",
       "chr10:100012225-100013310  100028007  chr10  100012225  100013310   100013310   \n",
       "\n",
       "                           exon_stop strand  \n",
       "junction_id                                  \n",
       "chr10:100008748-100010822  100008748      -  \n",
       "chr10:100010933-100011323  100010933      -  \n",
       "chr10:100011459-100012110  100011459      -  \n",
       "chr10:100011959-100015345  100011959      +  \n",
       "chr10:100012225-100013310  100012225      -  "
      ]
     },
     "execution_count": 21,
     "metadata": {},
     "output_type": "execute_result"
    }
   ],
   "source": [
    "splicing_feature_data.head()"
   ]
  },
  {
   "cell_type": "code",
   "execution_count": null,
   "metadata": {
    "collapsed": false,
    "scrolled": false
   },
   "outputs": [],
   "source": [
    "# %%time\n",
    "juction_exon_triples = Parallel(n_jobs=2)(delayed(adjacent_junctions)(x, splicing_feature_data, \n",
    "                                                chrom='Chr')for x in db.features_of_type('exon'))"
   ]
  },
  {
   "cell_type": "code",
   "execution_count": null,
   "metadata": {
    "collapsed": true
   },
   "outputs": [],
   "source": []
  },
  {
   "cell_type": "code",
   "execution_count": null,
   "metadata": {
    "collapsed": true
   },
   "outputs": [],
   "source": []
  },
  {
   "cell_type": "code",
   "execution_count": null,
   "metadata": {
    "collapsed": true
   },
   "outputs": [],
   "source": []
  }
 ],
 "metadata": {
  "kernelspec": {
   "display_name": "Python 2",
   "language": "python",
   "name": "python2"
  },
  "language_info": {
   "codemirror_mode": {
    "name": "ipython",
    "version": 2
   },
   "file_extension": ".py",
   "mimetype": "text/x-python",
   "name": "python",
   "nbconvert_exporter": "python",
   "pygments_lexer": "ipython2",
   "version": "2.7.11"
  }
 },
 "nbformat": 4,
 "nbformat_minor": 0
}
